{
  "nbformat": 4,
  "nbformat_minor": 0,
  "metadata": {
    "colab": {
      "name": "RNN( Recurrent Neural Network)",
      "provenance": []
    },
    "kernelspec": {
      "name": "python3",
      "display_name": "Python 3"
    },
    "language_info": {
      "name": "python"
    }
  },
  "cells": [
    {
      "cell_type": "markdown",
      "source": [
        "## Content\n",
        "* [Sequence Models](#1)\n",
        "* [Recurrent Neural Network (RNN)](#2)\n",
        "* [Implementing Recurrent Neural Network with Keras](#3)\n",
        "    * [Loading and Preprocessing Data](#31)\n",
        "    * [Create RNN Model](#32)\n",
        "    * [Predictions and Visualising RNN Model](#33)\n",
        "* [Long Short Term Memory (LSTMs)](#4)\n",
        "* [Implementing Long Short Term Memory with Keras](#99)\n",
        "    * [Loading and Visualizing Data](#41)\n",
        "    * [Preprocessing Data](#42)\n",
        "    * [Create LSTM Model](#43)\n",
        "    * [Predictions and Visualising LSTM Model](#44)\n",
        "* [Conclusion](#6)"
      ],
      "metadata": {
        "id": "7aIykQmhcdYV"
      }
    },
    {
      "cell_type": "markdown",
      "source": [
        "<a id=\"1\"></a>\n",
        "## Sequence Models\n",
        "* Sequence models plays an over time. \n",
        "* Speech recognition, natural language process (NLP), music generation\n",
        "* Apples Siri and Google's voice search\n",
        "* Sentiment classification (duygu sınıflandırma) Mesela \"bu ders bu dunyadaki en guzel ders\" yada \"sacma sapan ders cekmissin hocaaa\"  "
      ],
      "metadata": {
        "id": "LlOi4tgwcjnC"
      }
    },
    {
      "cell_type": "markdown",
      "source": [
        "<a id=\"2\"></a>\n",
        "## Recurrent Neural Network\n",
        "* RNN’s are able to remember important things about the input they received, which enables them to be very precise in predicting what’s coming next.\n",
        "* This is the reason why they are the preferred algorithm for sequential data like time series, speech, text, financial data, audio, video, weather and much more because they can form a much deeper understanding of a sequence and its context, compared to other algorithms.\n",
        "* Not only feeds output but also gives feed backs into itself. Because RNN has internal memory\n",
        "* temporal loop = zamansal döngü. Kendini besler.\n",
        "* ![title](temporal loop.jpg)\n",
        "* Belleğe sahipler short term memory bir önceki node da olanları hatırlarlar. Eskiyi hatırlar.\n",
        "* Mesela geçmişi hatırlamak neden önemli biz yaptıklarımızdan bir şeyler öğreniriz ve yeni öğrenilen şeyleri de eski öğrendiklerimizi üzerine kurarız. RNN'i de aynı mantıkta düşünebilirsiniz. Film örneğinde olduğu gibi.\n",
        "* ![title](new world image.jpg)\n",
        "* Örnek RNN yapılarına bakalım\n",
        "* One to Many\n",
        "    * Input bir resim output o resimde yapılan cümle yani \"Adam surf yapıyor\"\n",
        "    * ![title](one to many.jpg)\n",
        "* Many to One\n",
        "    * Input bir cümle output bir duygu mesela iyimser neşeli gibi.\n",
        "    * ![title](many to one.jpg)\n",
        "* Many to Many\n",
        "    * Mesela google translate kullanarak İngilizceden bir cümleyi Türkçe'ye translate etmek\n",
        "    * ![title](many to many.jpg)\n",
        "* RNN short term memory'e sahip ama LSTM long term memory'e de sahip olabiliyor.\n",
        "* RNN'i ANN yada CNN'den ayıran daha önce de belirttiğimiz gibi *memory*. Mesela \"DATAI\" diye bir stringimiz var ve biz 4. harfe geldik yani \"A\" harfine. ANN' e sorduğumuz zaman 4. harfi A olan bir kelimenin 5. harfi ne olabilir diye. ANN bilemez çünkü memory olmadığı için geçmiş harfleri yani \"DAT\" harflerini bilip \"A\" ile birleştirip daha sonra 5. harf \"I\" olabilir diyemez. Ama RNN tam olarak bunu söyleyebilir.\n",
        "* Exploiding Gradients: Gradient'in çok büyük olması durumu. Gereksiz yere belli weightlere önem kazandırır.\n",
        "* Vanishing Gradients: Gradient'in çok küçük olması durumu. Yavaş öğrenir.\n",
        "* Gradient neydi arkadaşlar costa göre weightlerde ki değişim."
      ],
      "metadata": {
        "id": "BNRcrksScl-3"
      }
    },
    {
      "cell_type": "markdown",
      "source": [
        "<a id=\"3\"></a>\n",
        "## Implementing Recurrent Neural Network with Keras\n",
        "* [Loading and Preprocessing Data](#31)\n",
        "* [Create RNN Model](#32)\n",
        "* [Predictions and Visualising RNN Model](#33)"
      ],
      "metadata": {
        "id": "oYVVwVDOcoMI"
      }
    },
    {
      "cell_type": "markdown",
      "source": [
        "<a id=\"31\"></a>\n",
        "### Loading and Preprocessing Data"
      ],
      "metadata": {
        "id": "sLUUA8EQc0gD"
      }
    },
    {
      "cell_type": "code",
      "source": [
        "# importing the libraries\n",
        "import numpy as np\n",
        "import matplotlib.pyplot as plt\n",
        "import pandas as pd\n",
        "import warnings\n",
        "warnings.filterwarnings('ignore')"
      ],
      "metadata": {
        "id": "hUfZru8kc3iG"
      },
      "execution_count": 2,
      "outputs": []
    },
    {
      "cell_type": "code",
      "source": [
        "# importing the training dataset\n",
        "dataset_train = pd.read_csv(\"Stock_Price_Train.csv\")"
      ],
      "metadata": {
        "id": "pkKIJJZ_q58M"
      },
      "execution_count": 3,
      "outputs": []
    },
    {
      "cell_type": "code",
      "source": [
        "dataset_train.head()"
      ],
      "metadata": {
        "colab": {
          "base_uri": "https://localhost:8080/",
          "height": 206
        },
        "id": "FBxMPveSrM9e",
        "outputId": "471cf45c-ed23-49fd-f26a-4530f1fd98f9"
      },
      "execution_count": 4,
      "outputs": [
        {
          "output_type": "execute_result",
          "data": {
            "text/plain": [
              "       Date    Open    High     Low   Close      Volume\n",
              "0  1/3/2012  325.25  332.83  324.97  663.59   7,380,500\n",
              "1  1/4/2012  331.27  333.87  329.08  666.45   5,749,400\n",
              "2  1/5/2012  329.83  330.75  326.89  657.21   6,590,300\n",
              "3  1/6/2012  328.34  328.77  323.68  648.24   5,405,900\n",
              "4  1/9/2012  322.04  322.29  309.46  620.76  11,688,800"
            ],
            "text/html": [
              "\n",
              "  <div id=\"df-6ba8fa1c-b6c4-480d-bc2e-8cb096409c0b\">\n",
              "    <div class=\"colab-df-container\">\n",
              "      <div>\n",
              "<style scoped>\n",
              "    .dataframe tbody tr th:only-of-type {\n",
              "        vertical-align: middle;\n",
              "    }\n",
              "\n",
              "    .dataframe tbody tr th {\n",
              "        vertical-align: top;\n",
              "    }\n",
              "\n",
              "    .dataframe thead th {\n",
              "        text-align: right;\n",
              "    }\n",
              "</style>\n",
              "<table border=\"1\" class=\"dataframe\">\n",
              "  <thead>\n",
              "    <tr style=\"text-align: right;\">\n",
              "      <th></th>\n",
              "      <th>Date</th>\n",
              "      <th>Open</th>\n",
              "      <th>High</th>\n",
              "      <th>Low</th>\n",
              "      <th>Close</th>\n",
              "      <th>Volume</th>\n",
              "    </tr>\n",
              "  </thead>\n",
              "  <tbody>\n",
              "    <tr>\n",
              "      <th>0</th>\n",
              "      <td>1/3/2012</td>\n",
              "      <td>325.25</td>\n",
              "      <td>332.83</td>\n",
              "      <td>324.97</td>\n",
              "      <td>663.59</td>\n",
              "      <td>7,380,500</td>\n",
              "    </tr>\n",
              "    <tr>\n",
              "      <th>1</th>\n",
              "      <td>1/4/2012</td>\n",
              "      <td>331.27</td>\n",
              "      <td>333.87</td>\n",
              "      <td>329.08</td>\n",
              "      <td>666.45</td>\n",
              "      <td>5,749,400</td>\n",
              "    </tr>\n",
              "    <tr>\n",
              "      <th>2</th>\n",
              "      <td>1/5/2012</td>\n",
              "      <td>329.83</td>\n",
              "      <td>330.75</td>\n",
              "      <td>326.89</td>\n",
              "      <td>657.21</td>\n",
              "      <td>6,590,300</td>\n",
              "    </tr>\n",
              "    <tr>\n",
              "      <th>3</th>\n",
              "      <td>1/6/2012</td>\n",
              "      <td>328.34</td>\n",
              "      <td>328.77</td>\n",
              "      <td>323.68</td>\n",
              "      <td>648.24</td>\n",
              "      <td>5,405,900</td>\n",
              "    </tr>\n",
              "    <tr>\n",
              "      <th>4</th>\n",
              "      <td>1/9/2012</td>\n",
              "      <td>322.04</td>\n",
              "      <td>322.29</td>\n",
              "      <td>309.46</td>\n",
              "      <td>620.76</td>\n",
              "      <td>11,688,800</td>\n",
              "    </tr>\n",
              "  </tbody>\n",
              "</table>\n",
              "</div>\n",
              "      <button class=\"colab-df-convert\" onclick=\"convertToInteractive('df-6ba8fa1c-b6c4-480d-bc2e-8cb096409c0b')\"\n",
              "              title=\"Convert this dataframe to an interactive table.\"\n",
              "              style=\"display:none;\">\n",
              "        \n",
              "  <svg xmlns=\"http://www.w3.org/2000/svg\" height=\"24px\"viewBox=\"0 0 24 24\"\n",
              "       width=\"24px\">\n",
              "    <path d=\"M0 0h24v24H0V0z\" fill=\"none\"/>\n",
              "    <path d=\"M18.56 5.44l.94 2.06.94-2.06 2.06-.94-2.06-.94-.94-2.06-.94 2.06-2.06.94zm-11 1L8.5 8.5l.94-2.06 2.06-.94-2.06-.94L8.5 2.5l-.94 2.06-2.06.94zm10 10l.94 2.06.94-2.06 2.06-.94-2.06-.94-.94-2.06-.94 2.06-2.06.94z\"/><path d=\"M17.41 7.96l-1.37-1.37c-.4-.4-.92-.59-1.43-.59-.52 0-1.04.2-1.43.59L10.3 9.45l-7.72 7.72c-.78.78-.78 2.05 0 2.83L4 21.41c.39.39.9.59 1.41.59.51 0 1.02-.2 1.41-.59l7.78-7.78 2.81-2.81c.8-.78.8-2.07 0-2.86zM5.41 20L4 18.59l7.72-7.72 1.47 1.35L5.41 20z\"/>\n",
              "  </svg>\n",
              "      </button>\n",
              "      \n",
              "  <style>\n",
              "    .colab-df-container {\n",
              "      display:flex;\n",
              "      flex-wrap:wrap;\n",
              "      gap: 12px;\n",
              "    }\n",
              "\n",
              "    .colab-df-convert {\n",
              "      background-color: #E8F0FE;\n",
              "      border: none;\n",
              "      border-radius: 50%;\n",
              "      cursor: pointer;\n",
              "      display: none;\n",
              "      fill: #1967D2;\n",
              "      height: 32px;\n",
              "      padding: 0 0 0 0;\n",
              "      width: 32px;\n",
              "    }\n",
              "\n",
              "    .colab-df-convert:hover {\n",
              "      background-color: #E2EBFA;\n",
              "      box-shadow: 0px 1px 2px rgba(60, 64, 67, 0.3), 0px 1px 3px 1px rgba(60, 64, 67, 0.15);\n",
              "      fill: #174EA6;\n",
              "    }\n",
              "\n",
              "    [theme=dark] .colab-df-convert {\n",
              "      background-color: #3B4455;\n",
              "      fill: #D2E3FC;\n",
              "    }\n",
              "\n",
              "    [theme=dark] .colab-df-convert:hover {\n",
              "      background-color: #434B5C;\n",
              "      box-shadow: 0px 1px 3px 1px rgba(0, 0, 0, 0.15);\n",
              "      filter: drop-shadow(0px 1px 2px rgba(0, 0, 0, 0.3));\n",
              "      fill: #FFFFFF;\n",
              "    }\n",
              "  </style>\n",
              "\n",
              "      <script>\n",
              "        const buttonEl =\n",
              "          document.querySelector('#df-6ba8fa1c-b6c4-480d-bc2e-8cb096409c0b button.colab-df-convert');\n",
              "        buttonEl.style.display =\n",
              "          google.colab.kernel.accessAllowed ? 'block' : 'none';\n",
              "\n",
              "        async function convertToInteractive(key) {\n",
              "          const element = document.querySelector('#df-6ba8fa1c-b6c4-480d-bc2e-8cb096409c0b');\n",
              "          const dataTable =\n",
              "            await google.colab.kernel.invokeFunction('convertToInteractive',\n",
              "                                                     [key], {});\n",
              "          if (!dataTable) return;\n",
              "\n",
              "          const docLinkHtml = 'Like what you see? Visit the ' +\n",
              "            '<a target=\"_blank\" href=https://colab.research.google.com/notebooks/data_table.ipynb>data table notebook</a>'\n",
              "            + ' to learn more about interactive tables.';\n",
              "          element.innerHTML = '';\n",
              "          dataTable['output_type'] = 'display_data';\n",
              "          await google.colab.output.renderOutput(dataTable, element);\n",
              "          const docLink = document.createElement('div');\n",
              "          docLink.innerHTML = docLinkHtml;\n",
              "          element.appendChild(docLink);\n",
              "        }\n",
              "      </script>\n",
              "    </div>\n",
              "  </div>\n",
              "  "
            ]
          },
          "metadata": {},
          "execution_count": 4
        }
      ]
    },
    {
      "cell_type": "code",
      "source": [
        "train = dataset_train.loc[: , [\"Open\"]].values\n",
        "train"
      ],
      "metadata": {
        "colab": {
          "base_uri": "https://localhost:8080/"
        },
        "id": "VKcPYknurNBK",
        "outputId": "d05b0dc5-81f3-483d-b436-e2eca4ae0e48"
      },
      "execution_count": 6,
      "outputs": [
        {
          "output_type": "execute_result",
          "data": {
            "text/plain": [
              "array([[325.25],\n",
              "       [331.27],\n",
              "       [329.83],\n",
              "       ...,\n",
              "       [793.7 ],\n",
              "       [783.33],\n",
              "       [782.75]])"
            ]
          },
          "metadata": {},
          "execution_count": 6
        }
      ]
    },
    {
      "cell_type": "code",
      "source": [
        "# feautre scaling \n",
        "from sklearn.preprocessing import MinMaxScaler\n",
        "scaler = MinMaxScaler(feature_range= (0,1))\n",
        "train_scaled = scaler.fit_transform(train)\n",
        "train_scaled"
      ],
      "metadata": {
        "colab": {
          "base_uri": "https://localhost:8080/"
        },
        "id": "-gyv3GDjrNEL",
        "outputId": "0c8b5295-7362-4add-a1b4-bcddbef18b9b"
      },
      "execution_count": 7,
      "outputs": [
        {
          "output_type": "execute_result",
          "data": {
            "text/plain": [
              "array([[0.08581368],\n",
              "       [0.09701243],\n",
              "       [0.09433366],\n",
              "       ...,\n",
              "       [0.95725128],\n",
              "       [0.93796041],\n",
              "       [0.93688146]])"
            ]
          },
          "metadata": {},
          "execution_count": 7
        }
      ]
    },
    {
      "cell_type": "code",
      "source": [
        "plt.plot(train_scaled)\n",
        "plt.show()"
      ],
      "metadata": {
        "colab": {
          "base_uri": "https://localhost:8080/",
          "height": 265
        },
        "id": "58edkBO8sKaR",
        "outputId": "353e1ff3-faa9-4a66-d5af-1b10149668d4"
      },
      "execution_count": 9,
      "outputs": [
        {
          "output_type": "display_data",
          "data": {
            "text/plain": [
              "<Figure size 432x288 with 1 Axes>"
            ],
            "image/png": "[encoded data removed]"
          },
          "metadata": {
            "needs_background": "light"
          }
        }
      ]
    },
    {
      "cell_type": "code",
      "source": [
        "# creating a data structure with 50 timesteps and 1 output\n",
        "x_train = [] \n",
        "y_train = []\n",
        "# ilk 50 adedi sample al (train) sonraki 51. adedi test için kullan , geri kalanlar için aynı şekilde devam ettir.\n",
        "timesteps = 50\n",
        "for i in range (timesteps , 1258):\n",
        "  x_train.append(train_scaled[i-timesteps:i , 0])\n",
        "  y_train.append(train_scaled[i,0])\n",
        "x_train , y_train = np.array(x_train) , np.array(y_train)\n"
      ],
      "metadata": {
        "id": "PkRj-T5g6js4"
      },
      "execution_count": 14,
      "outputs": []
    },
    {
      "cell_type": "markdown",
      "source": [
        "**SHIFTING**\n",
        "\n",
        "![del.PNG](data:image/png;base64,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)"
      ],
      "metadata": {
        "id": "_-hDSf-K6CSZ"
      }
    },
    {
      "cell_type": "code",
      "source": [
        "# reshaping\n",
        "x_train = np.reshape(x_train, (x_train.shape[0] , x_train.shape[1] , 1))\n",
        "x_train"
      ],
      "metadata": {
        "colab": {
          "base_uri": "https://localhost:8080/"
        },
        "id": "7CH8J0TarNJd",
        "outputId": "59bacf7b-b686-46e4-ecbb-3f813ef8358a"
      },
      "execution_count": 13,
      "outputs": [
        {
          "output_type": "execute_result",
          "data": {
            "text/plain": [
              "array([[[0.08581368],\n",
              "        [0.09701243],\n",
              "        [0.09433366],\n",
              "        ...,\n",
              "        [0.03675869],\n",
              "        [0.04486941],\n",
              "        [0.05065481]],\n",
              "\n",
              "       [[0.09701243],\n",
              "        [0.09433366],\n",
              "        [0.09156187],\n",
              "        ...,\n",
              "        [0.04486941],\n",
              "        [0.05065481],\n",
              "        [0.05214302]],\n",
              "\n",
              "       [[0.09433366],\n",
              "        [0.09156187],\n",
              "        [0.07984225],\n",
              "        ...,\n",
              "        [0.05065481],\n",
              "        [0.05214302],\n",
              "        [0.05612397]],\n",
              "\n",
              "       ...,\n",
              "\n",
              "       [[0.9313937 ],\n",
              "        [0.94636878],\n",
              "        [0.96569685],\n",
              "        ...,\n",
              "        [0.95475854],\n",
              "        [0.95204256],\n",
              "        [0.95163331]],\n",
              "\n",
              "       [[0.94636878],\n",
              "        [0.96569685],\n",
              "        [0.97510976],\n",
              "        ...,\n",
              "        [0.95204256],\n",
              "        [0.95163331],\n",
              "        [0.95725128]],\n",
              "\n",
              "       [[0.96569685],\n",
              "        [0.97510976],\n",
              "        [0.95966962],\n",
              "        ...,\n",
              "        [0.95163331],\n",
              "        [0.95725128],\n",
              "        [0.93796041]]])"
            ]
          },
          "metadata": {},
          "execution_count": 13
        }
      ]
    },
    {
      "cell_type": "markdown",
      "source": [
        "**CREATE RNN MODEL**"
      ],
      "metadata": {
        "id": "s6XU8Kyb677Q"
      }
    },
    {
      "cell_type": "code",
      "source": [
        "# importing the Keras libraries and packages\n",
        "from keras.models import Sequential\n",
        "from keras.layers import Dense # layers\n",
        "from keras.layers import SimpleRNN\n",
        "from keras.layers import Dropout\n",
        "\n",
        "# initializing the RNN\n",
        "regressor = Sequential()\n",
        "\n",
        "# Adding the first RNN and some Dropout regularisation\n",
        "regressor.add(SimpleRNN(units = 50 , activation=\"relu\" , return_sequences = True , input_shape = (x_train.shape[1] ,1)))\n",
        "regressor.add(Dropout(0.2))\n",
        "\n",
        "# Adding a second RNN and some Dropout regularisation\n",
        "regressor.add(SimpleRNN(units = 50 , activation=\"relu\" , return_sequences = True))\n",
        "regressor.add(Dropout(0.2))\n",
        "\n",
        "# Adding a third RNN and some Dropout regularisation\n",
        "regressor.add(SimpleRNN(units = 50 , activation=\"relu\" , return_sequences = True))\n",
        "regressor.add(Dropout(0.2))\n",
        "\n",
        "# Adding a fourth RNN and some Dropout regularisation\n",
        "regressor.add(SimpleRNN(units = 50 ))\n",
        "regressor.add(Dropout(0.2))\n",
        "\n",
        "# adding yhe output layer \n",
        "regressor.add(Dense(units=1))\n",
        "\n",
        "# compiling the RNN\n",
        "regressor.compile(optimizer = \"adam\" , loss=\"mean_squared_error\")\n",
        "\n",
        "# fitting the RNN to the Training set\n",
        "regressor.fit(x_train , y_train , epochs = 100 , batch_size= 32)"
      ],
      "metadata": {
        "colab": {
          "base_uri": "https://localhost:8080/"
        },
        "id": "j6YkQMvJ5Js0",
        "outputId": "34a397c3-2b02-4cf7-cb1b-c0b366f9d114"
      },
      "execution_count": 25,
      "outputs": [
        {
          "output_type": "stream",
          "name": "stdout",
          "text": [
            "Epoch 1/100\n",
            "38/38 [==============================] - 5s 47ms/step - loss: 0.0779\n",
            "Epoch 2/100\n",
            "38/38 [==============================] - 2s 46ms/step - loss: 0.0176\n",
            "Epoch 3/100\n",
            "38/38 [==============================] - 2s 46ms/step - loss: 0.0130\n",
            "Epoch 4/100\n",
            "38/38 [==============================] - 2s 45ms/step - loss: 0.0115\n",
            "Epoch 5/100\n",
            "38/38 [==============================] - 2s 45ms/step - loss: 0.0095\n",
            "Epoch 6/100\n",
            "38/38 [==============================] - 2s 46ms/step - loss: 0.0085\n",
            "Epoch 7/100\n",
            "38/38 [==============================] - 2s 46ms/step - loss: 0.0081\n",
            "Epoch 8/100\n",
            "38/38 [==============================] - 2s 45ms/step - loss: 0.0071\n",
            "Epoch 9/100\n",
            "38/38 [==============================] - 2s 46ms/step - loss: 0.0069\n",
            "Epoch 10/100\n",
            "38/38 [==============================] - 2s 46ms/step - loss: 0.0061\n",
            "Epoch 11/100\n",
            "38/38 [==============================] - 2s 46ms/step - loss: 0.0059\n",
            "Epoch 12/100\n",
            "38/38 [==============================] - 2s 45ms/step - loss: 0.0057\n",
            "Epoch 13/100\n",
            "38/38 [==============================] - 2s 45ms/step - loss: 0.0053\n",
            "Epoch 14/100\n",
            "38/38 [==============================] - 2s 45ms/step - loss: 0.0050\n",
            "Epoch 15/100\n",
            "38/38 [==============================] - 2s 46ms/step - loss: 0.0051\n",
            "Epoch 16/100\n",
            "38/38 [==============================] - 2s 45ms/step - loss: 0.0049\n",
            "Epoch 17/100\n",
            "38/38 [==============================] - 2s 46ms/step - loss: 0.0044\n",
            "Epoch 18/100\n",
            "38/38 [==============================] - 2s 46ms/step - loss: 0.0045\n",
            "Epoch 19/100\n",
            "38/38 [==============================] - 2s 46ms/step - loss: 0.0038\n",
            "Epoch 20/100\n",
            "38/38 [==============================] - 2s 47ms/step - loss: 0.0043\n",
            "Epoch 21/100\n",
            "38/38 [==============================] - 2s 47ms/step - loss: 0.0040\n",
            "Epoch 22/100\n",
            "38/38 [==============================] - 2s 46ms/step - loss: 0.0040\n",
            "Epoch 23/100\n",
            "38/38 [==============================] - 2s 46ms/step - loss: 0.0038\n",
            "Epoch 24/100\n",
            "38/38 [==============================] - 2s 45ms/step - loss: 0.0036\n",
            "Epoch 25/100\n",
            "38/38 [==============================] - 2s 45ms/step - loss: 0.0039\n",
            "Epoch 26/100\n",
            "38/38 [==============================] - 2s 49ms/step - loss: 0.0043\n",
            "Epoch 27/100\n",
            "38/38 [==============================] - 2s 46ms/step - loss: 0.0041\n",
            "Epoch 28/100\n",
            "38/38 [==============================] - 2s 46ms/step - loss: 0.0040\n",
            "Epoch 29/100\n",
            "38/38 [==============================] - 2s 46ms/step - loss: 0.0038\n",
            "Epoch 30/100\n",
            "38/38 [==============================] - 2s 46ms/step - loss: 0.0037\n",
            "Epoch 31/100\n",
            "38/38 [==============================] - 2s 47ms/step - loss: 0.0035\n",
            "Epoch 32/100\n",
            "38/38 [==============================] - 2s 47ms/step - loss: 0.0034\n",
            "Epoch 33/100\n",
            "38/38 [==============================] - 2s 46ms/step - loss: 0.0034\n",
            "Epoch 34/100\n",
            "38/38 [==============================] - 2s 45ms/step - loss: 0.0034\n",
            "Epoch 35/100\n",
            "38/38 [==============================] - 2s 46ms/step - loss: 0.0035\n",
            "Epoch 36/100\n",
            "38/38 [==============================] - 2s 46ms/step - loss: 0.0032\n",
            "Epoch 37/100\n",
            "38/38 [==============================] - 2s 45ms/step - loss: 0.0035\n",
            "Epoch 38/100\n",
            "38/38 [==============================] - 2s 46ms/step - loss: 0.0027\n",
            "Epoch 39/100\n",
            "38/38 [==============================] - 2s 45ms/step - loss: 0.0030\n",
            "Epoch 40/100\n",
            "38/38 [==============================] - 2s 46ms/step - loss: 0.0037\n",
            "Epoch 41/100\n",
            "38/38 [==============================] - 2s 46ms/step - loss: 0.0033\n",
            "Epoch 42/100\n",
            "38/38 [==============================] - 2s 46ms/step - loss: 0.0036\n",
            "Epoch 43/100\n",
            "38/38 [==============================] - 2s 47ms/step - loss: 0.0029\n",
            "Epoch 44/100\n",
            "38/38 [==============================] - 2s 45ms/step - loss: 0.0027\n",
            "Epoch 45/100\n",
            "38/38 [==============================] - 2s 52ms/step - loss: 0.0024\n",
            "Epoch 46/100\n",
            "38/38 [==============================] - 2s 57ms/step - loss: 0.0029\n",
            "Epoch 47/100\n",
            "38/38 [==============================] - 2s 45ms/step - loss: 0.0028\n",
            "Epoch 48/100\n",
            "38/38 [==============================] - 2s 45ms/step - loss: 0.0030\n",
            "Epoch 49/100\n",
            "38/38 [==============================] - 2s 47ms/step - loss: 0.0026\n",
            "Epoch 50/100\n",
            "38/38 [==============================] - 2s 47ms/step - loss: 0.0029\n",
            "Epoch 51/100\n",
            "38/38 [==============================] - 2s 45ms/step - loss: 0.0030\n",
            "Epoch 52/100\n",
            "38/38 [==============================] - 2s 47ms/step - loss: 0.0025\n",
            "Epoch 53/100\n",
            "38/38 [==============================] - 2s 47ms/step - loss: 0.0028\n",
            "Epoch 54/100\n",
            "38/38 [==============================] - 2s 46ms/step - loss: 0.0022\n",
            "Epoch 55/100\n",
            "38/38 [==============================] - 2s 47ms/step - loss: 0.0027\n",
            "Epoch 56/100\n",
            "38/38 [==============================] - 2s 44ms/step - loss: 0.0031\n",
            "Epoch 57/100\n",
            "38/38 [==============================] - 2s 44ms/step - loss: 0.0026\n",
            "Epoch 58/100\n",
            "38/38 [==============================] - 2s 45ms/step - loss: 0.0023\n",
            "Epoch 59/100\n",
            "38/38 [==============================] - 2s 45ms/step - loss: 0.0026\n",
            "Epoch 60/100\n",
            "38/38 [==============================] - 2s 47ms/step - loss: 0.0028\n",
            "Epoch 61/100\n",
            "38/38 [==============================] - 2s 55ms/step - loss: 0.0024\n",
            "Epoch 62/100\n",
            "38/38 [==============================] - 3s 79ms/step - loss: 0.0029\n",
            "Epoch 63/100\n",
            "38/38 [==============================] - 3s 65ms/step - loss: 0.0027\n",
            "Epoch 64/100\n",
            "38/38 [==============================] - 2s 62ms/step - loss: 0.0025\n",
            "Epoch 65/100\n",
            "38/38 [==============================] - 2s 65ms/step - loss: 0.0022\n",
            "Epoch 66/100\n",
            "38/38 [==============================] - 2s 58ms/step - loss: 0.0028\n",
            "Epoch 67/100\n",
            "38/38 [==============================] - 2s 64ms/step - loss: 0.0025\n",
            "Epoch 68/100\n",
            "38/38 [==============================] - 3s 66ms/step - loss: 0.0024\n",
            "Epoch 69/100\n",
            "38/38 [==============================] - 3s 84ms/step - loss: 0.0023\n",
            "Epoch 70/100\n",
            "38/38 [==============================] - 4s 93ms/step - loss: 0.0028\n",
            "Epoch 71/100\n",
            "38/38 [==============================] - 3s 93ms/step - loss: 0.0023\n",
            "Epoch 72/100\n",
            "38/38 [==============================] - 3s 89ms/step - loss: 0.0024\n",
            "Epoch 73/100\n",
            "38/38 [==============================] - 3s 69ms/step - loss: 0.0023\n",
            "Epoch 74/100\n",
            "38/38 [==============================] - 3s 67ms/step - loss: 0.0022\n",
            "Epoch 75/100\n",
            "38/38 [==============================] - 3s 66ms/step - loss: 0.0022\n",
            "Epoch 76/100\n",
            "38/38 [==============================] - 3s 73ms/step - loss: 0.0021\n",
            "Epoch 77/100\n",
            "38/38 [==============================] - 2s 51ms/step - loss: 0.0021\n",
            "Epoch 78/100\n",
            "38/38 [==============================] - 4s 113ms/step - loss: 0.0022\n",
            "Epoch 79/100\n",
            "38/38 [==============================] - 3s 76ms/step - loss: 0.0022\n",
            "Epoch 80/100\n",
            "38/38 [==============================] - 3s 81ms/step - loss: 0.0022\n",
            "Epoch 81/100\n",
            "38/38 [==============================] - 4s 102ms/step - loss: 0.0020\n",
            "Epoch 82/100\n",
            "38/38 [==============================] - 3s 74ms/step - loss: 0.0023\n",
            "Epoch 83/100\n",
            "38/38 [==============================] - 2s 46ms/step - loss: 0.0019\n",
            "Epoch 84/100\n",
            "38/38 [==============================] - 2s 49ms/step - loss: 0.0021\n",
            "Epoch 85/100\n",
            "38/38 [==============================] - 2s 65ms/step - loss: 0.0018\n",
            "Epoch 86/100\n",
            "38/38 [==============================] - 2s 60ms/step - loss: 0.0020\n",
            "Epoch 87/100\n",
            "38/38 [==============================] - 2s 64ms/step - loss: 0.0020\n",
            "Epoch 88/100\n",
            "38/38 [==============================] - 2s 60ms/step - loss: 0.0021\n",
            "Epoch 89/100\n",
            "38/38 [==============================] - 2s 60ms/step - loss: 0.0022\n",
            "Epoch 90/100\n",
            "38/38 [==============================] - 4s 95ms/step - loss: 0.0020\n",
            "Epoch 91/100\n",
            "38/38 [==============================] - 3s 89ms/step - loss: 0.0023\n",
            "Epoch 92/100\n",
            "38/38 [==============================] - 2s 55ms/step - loss: 0.0026\n",
            "Epoch 93/100\n",
            "38/38 [==============================] - 3s 72ms/step - loss: 0.0025\n",
            "Epoch 94/100\n",
            "38/38 [==============================] - 3s 67ms/step - loss: 0.0018\n",
            "Epoch 95/100\n",
            "38/38 [==============================] - 3s 77ms/step - loss: 0.0017\n",
            "Epoch 96/100\n",
            "38/38 [==============================] - 2s 63ms/step - loss: 0.0018\n",
            "Epoch 97/100\n",
            "38/38 [==============================] - 2s 61ms/step - loss: 0.0020\n",
            "Epoch 98/100\n",
            "38/38 [==============================] - 2s 60ms/step - loss: 0.0020\n",
            "Epoch 99/100\n",
            "38/38 [==============================] - 3s 84ms/step - loss: 0.0018\n",
            "Epoch 100/100\n",
            "38/38 [==============================] - 3s 72ms/step - loss: 0.0021\n"
          ]
        },
        {
          "output_type": "execute_result",
          "data": {
            "text/plain": [
              "<keras.callbacks.History at 0x7ffab1477110>"
            ]
          },
          "metadata": {},
          "execution_count": 25
        }
      ]
    },
    {
      "cell_type": "markdown",
      "source": [
        "**Predicting and Visualizating RNN Model**"
      ],
      "metadata": {
        "id": "h3QrzK07C0HY"
      }
    },
    {
      "cell_type": "code",
      "source": [
        "# getting the real stock price of 2017\n",
        "dataset_test = pd.read_csv('Stock_Price_Test.csv')\n",
        "dataset_test.head()"
      ],
      "metadata": {
        "colab": {
          "base_uri": "https://localhost:8080/",
          "height": 206
        },
        "id": "9m9Xl1OO5Jwj",
        "outputId": "d3041b39-4ed4-4a04-c440-07711e9b61e9"
      },
      "execution_count": 26,
      "outputs": [
        {
          "output_type": "execute_result",
          "data": {
            "text/plain": [
              "       Date    Open    High     Low   Close     Volume\n",
              "0  1/3/2017  778.81  789.63  775.80  786.14  1,657,300\n",
              "1  1/4/2017  788.36  791.34  783.16  786.90  1,073,000\n",
              "2  1/5/2017  786.08  794.48  785.02  794.02  1,335,200\n",
              "3  1/6/2017  795.26  807.90  792.20  806.15  1,640,200\n",
              "4  1/9/2017  806.40  809.97  802.83  806.65  1,272,400"
            ],
            "text/html": [
              "\n",
              "  <div id=\"df-cbfc3be5-6aad-4332-a206-4c8168231446\">\n",
              "    <div class=\"colab-df-container\">\n",
              "      <div>\n",
              "<style scoped>\n",
              "    .dataframe tbody tr th:only-of-type {\n",
              "        vertical-align: middle;\n",
              "    }\n",
              "\n",
              "    .dataframe tbody tr th {\n",
              "        vertical-align: top;\n",
              "    }\n",
              "\n",
              "    .dataframe thead th {\n",
              "        text-align: right;\n",
              "    }\n",
              "</style>\n",
              "<table border=\"1\" class=\"dataframe\">\n",
              "  <thead>\n",
              "    <tr style=\"text-align: right;\">\n",
              "      <th></th>\n",
              "      <th>Date</th>\n",
              "      <th>Open</th>\n",
              "      <th>High</th>\n",
              "      <th>Low</th>\n",
              "      <th>Close</th>\n",
              "      <th>Volume</th>\n",
              "    </tr>\n",
              "  </thead>\n",
              "  <tbody>\n",
              "    <tr>\n",
              "      <th>0</th>\n",
              "      <td>1/3/2017</td>\n",
              "      <td>778.81</td>\n",
              "      <td>789.63</td>\n",
              "      <td>775.80</td>\n",
              "      <td>786.14</td>\n",
              "      <td>1,657,300</td>\n",
              "    </tr>\n",
              "    <tr>\n",
              "      <th>1</th>\n",
              "      <td>1/4/2017</td>\n",
              "      <td>788.36</td>\n",
              "      <td>791.34</td>\n",
              "      <td>783.16</td>\n",
              "      <td>786.90</td>\n",
              "      <td>1,073,000</td>\n",
              "    </tr>\n",
              "    <tr>\n",
              "      <th>2</th>\n",
              "      <td>1/5/2017</td>\n",
              "      <td>786.08</td>\n",
              "      <td>794.48</td>\n",
              "      <td>785.02</td>\n",
              "      <td>794.02</td>\n",
              "      <td>1,335,200</td>\n",
              "    </tr>\n",
              "    <tr>\n",
              "      <th>3</th>\n",
              "      <td>1/6/2017</td>\n",
              "      <td>795.26</td>\n",
              "      <td>807.90</td>\n",
              "      <td>792.20</td>\n",
              "      <td>806.15</td>\n",
              "      <td>1,640,200</td>\n",
              "    </tr>\n",
              "    <tr>\n",
              "      <th>4</th>\n",
              "      <td>1/9/2017</td>\n",
              "      <td>806.40</td>\n",
              "      <td>809.97</td>\n",
              "      <td>802.83</td>\n",
              "      <td>806.65</td>\n",
              "      <td>1,272,400</td>\n",
              "    </tr>\n",
              "  </tbody>\n",
              "</table>\n",
              "</div>\n",
              "      <button class=\"colab-df-convert\" onclick=\"convertToInteractive('df-cbfc3be5-6aad-4332-a206-4c8168231446')\"\n",
              "              title=\"Convert this dataframe to an interactive table.\"\n",
              "              style=\"display:none;\">\n",
              "        \n",
              "  <svg xmlns=\"http://www.w3.org/2000/svg\" height=\"24px\"viewBox=\"0 0 24 24\"\n",
              "       width=\"24px\">\n",
              "    <path d=\"M0 0h24v24H0V0z\" fill=\"none\"/>\n",
              "    <path d=\"M18.56 5.44l.94 2.06.94-2.06 2.06-.94-2.06-.94-.94-2.06-.94 2.06-2.06.94zm-11 1L8.5 8.5l.94-2.06 2.06-.94-2.06-.94L8.5 2.5l-.94 2.06-2.06.94zm10 10l.94 2.06.94-2.06 2.06-.94-2.06-.94-.94-2.06-.94 2.06-2.06.94z\"/><path d=\"M17.41 7.96l-1.37-1.37c-.4-.4-.92-.59-1.43-.59-.52 0-1.04.2-1.43.59L10.3 9.45l-7.72 7.72c-.78.78-.78 2.05 0 2.83L4 21.41c.39.39.9.59 1.41.59.51 0 1.02-.2 1.41-.59l7.78-7.78 2.81-2.81c.8-.78.8-2.07 0-2.86zM5.41 20L4 18.59l7.72-7.72 1.47 1.35L5.41 20z\"/>\n",
              "  </svg>\n",
              "      </button>\n",
              "      \n",
              "  <style>\n",
              "    .colab-df-container {\n",
              "      display:flex;\n",
              "      flex-wrap:wrap;\n",
              "      gap: 12px;\n",
              "    }\n",
              "\n",
              "    .colab-df-convert {\n",
              "      background-color: #E8F0FE;\n",
              "      border: none;\n",
              "      border-radius: 50%;\n",
              "      cursor: pointer;\n",
              "      display: none;\n",
              "      fill: #1967D2;\n",
              "      height: 32px;\n",
              "      padding: 0 0 0 0;\n",
              "      width: 32px;\n",
              "    }\n",
              "\n",
              "    .colab-df-convert:hover {\n",
              "      background-color: #E2EBFA;\n",
              "      box-shadow: 0px 1px 2px rgba(60, 64, 67, 0.3), 0px 1px 3px 1px rgba(60, 64, 67, 0.15);\n",
              "      fill: #174EA6;\n",
              "    }\n",
              "\n",
              "    [theme=dark] .colab-df-convert {\n",
              "      background-color: #3B4455;\n",
              "      fill: #D2E3FC;\n",
              "    }\n",
              "\n",
              "    [theme=dark] .colab-df-convert:hover {\n",
              "      background-color: #434B5C;\n",
              "      box-shadow: 0px 1px 3px 1px rgba(0, 0, 0, 0.15);\n",
              "      filter: drop-shadow(0px 1px 2px rgba(0, 0, 0, 0.3));\n",
              "      fill: #FFFFFF;\n",
              "    }\n",
              "  </style>\n",
              "\n",
              "      <script>\n",
              "        const buttonEl =\n",
              "          document.querySelector('#df-cbfc3be5-6aad-4332-a206-4c8168231446 button.colab-df-convert');\n",
              "        buttonEl.style.display =\n",
              "          google.colab.kernel.accessAllowed ? 'block' : 'none';\n",
              "\n",
              "        async function convertToInteractive(key) {\n",
              "          const element = document.querySelector('#df-cbfc3be5-6aad-4332-a206-4c8168231446');\n",
              "          const dataTable =\n",
              "            await google.colab.kernel.invokeFunction('convertToInteractive',\n",
              "                                                     [key], {});\n",
              "          if (!dataTable) return;\n",
              "\n",
              "          const docLinkHtml = 'Like what you see? Visit the ' +\n",
              "            '<a target=\"_blank\" href=https://colab.research.google.com/notebooks/data_table.ipynb>data table notebook</a>'\n",
              "            + ' to learn more about interactive tables.';\n",
              "          element.innerHTML = '';\n",
              "          dataTable['output_type'] = 'display_data';\n",
              "          await google.colab.output.renderOutput(dataTable, element);\n",
              "          const docLink = document.createElement('div');\n",
              "          docLink.innerHTML = docLinkHtml;\n",
              "          element.appendChild(docLink);\n",
              "        }\n",
              "      </script>\n",
              "    </div>\n",
              "  </div>\n",
              "  "
            ]
          },
          "metadata": {},
          "execution_count": 26
        }
      ]
    },
    {
      "cell_type": "code",
      "source": [
        "real_stock_price = dataset_test.loc[: , [\"Open\"]].values\n",
        "real_stock_price"
      ],
      "metadata": {
        "colab": {
          "base_uri": "https://localhost:8080/"
        },
        "id": "yVCuQbTM5JzN",
        "outputId": "cfe1117d-eaab-431f-9e99-49197ef051b3"
      },
      "execution_count": 27,
      "outputs": [
        {
          "output_type": "execute_result",
          "data": {
            "text/plain": [
              "array([[778.81],\n",
              "       [788.36],\n",
              "       [786.08],\n",
              "       [795.26],\n",
              "       [806.4 ],\n",
              "       [807.86],\n",
              "       [805.  ],\n",
              "       [807.14],\n",
              "       [807.48],\n",
              "       [807.08],\n",
              "       [805.81],\n",
              "       [805.12],\n",
              "       [806.91],\n",
              "       [807.25],\n",
              "       [822.3 ],\n",
              "       [829.62],\n",
              "       [837.81],\n",
              "       [834.71],\n",
              "       [814.66],\n",
              "       [796.86]])"
            ]
          },
          "metadata": {},
          "execution_count": 27
        }
      ]
    },
    {
      "cell_type": "code",
      "source": [
        "# Getting then predicted stock price of 2017\n",
        "dataset_total = pd.concat((dataset_train['Open'], dataset_test['Open']), axis=0)\n",
        "inputs = dataset_total[len(dataset_total) - len(dataset_test) - timesteps:].values.reshape(-1,1)\n",
        "inputs = scaler.transform(inputs) # min max scaler\n",
        "inputs"
      ],
      "metadata": {
        "colab": {
          "base_uri": "https://localhost:8080/"
        },
        "id": "9WfCBwAJrNL2",
        "outputId": "ba50ceea-a393-4f9f-f9c0-fac55bbc952a"
      },
      "execution_count": 28,
      "outputs": [
        {
          "output_type": "execute_result",
          "data": {
            "text/plain": [
              "array([[0.97510976],\n",
              "       [0.95966962],\n",
              "       [0.97808617],\n",
              "       [1.        ],\n",
              "       [0.98076494],\n",
              "       [0.97083116],\n",
              "       [0.98450406],\n",
              "       [0.96054394],\n",
              "       [0.9371419 ],\n",
              "       [0.92841729],\n",
              "       [0.90804747],\n",
              "       [0.8771858 ],\n",
              "       [0.92153434],\n",
              "       [0.93809063],\n",
              "       [0.93165414],\n",
              "       [0.95254483],\n",
              "       [0.88812412],\n",
              "       [0.88637547],\n",
              "       [0.87032145],\n",
              "       [0.88563137],\n",
              "       [0.90743359],\n",
              "       [0.91571173],\n",
              "       [0.89941588],\n",
              "       [0.91805566],\n",
              "       [0.9089404 ],\n",
              "       [0.9024853 ],\n",
              "       [0.89456061],\n",
              "       [0.91600938],\n",
              "       [0.9132934 ],\n",
              "       [0.88979835],\n",
              "       [0.86589404],\n",
              "       [0.89030062],\n",
              "       [0.90335962],\n",
              "       [0.89642086],\n",
              "       [0.91777662],\n",
              "       [0.93176576],\n",
              "       [0.94114145],\n",
              "       [0.95762334],\n",
              "       [0.96413424],\n",
              "       [0.96402262],\n",
              "       [0.96971501],\n",
              "       [0.95077759],\n",
              "       [0.96294367],\n",
              "       [0.96123223],\n",
              "       [0.95475854],\n",
              "       [0.95204256],\n",
              "       [0.95163331],\n",
              "       [0.95725128],\n",
              "       [0.93796041],\n",
              "       [0.93688146],\n",
              "       [0.92955205],\n",
              "       [0.94731751],\n",
              "       [0.94307612],\n",
              "       [0.96015329],\n",
              "       [0.98087655],\n",
              "       [0.98359253],\n",
              "       [0.97827219],\n",
              "       [0.98225314],\n",
              "       [0.98288563],\n",
              "       [0.98214153],\n",
              "       [0.979779  ],\n",
              "       [0.97849542],\n",
              "       [0.98182528],\n",
              "       [0.98245777],\n",
              "       [1.01045465],\n",
              "       [1.02407173],\n",
              "       [1.03930724],\n",
              "       [1.03354044],\n",
              "       [0.99624228],\n",
              "       [0.9631297 ]])"
            ]
          },
          "metadata": {},
          "execution_count": 28
        }
      ]
    },
    {
      "cell_type": "code",
      "source": [
        "x_test = []\n",
        "for i in range(timesteps, 70):\n",
        "    x_test.append(inputs[i-timesteps:i, 0])\n",
        "x_test = np.array(x_test)\n",
        "x_test = np.reshape(x_test, (x_test.shape[0], x_test.shape[1], 1))\n",
        "predicted_stock_price = regressor.predict(x_test)\n",
        "predicted_stock_price = scaler.inverse_transform(predicted_stock_price)\n",
        "\n",
        "# Visualising the results\n",
        "plt.plot(real_stock_price, color = 'red', label = 'Real Google Stock Price')\n",
        "plt.plot(predicted_stock_price, color = 'blue', label = 'Predicted Google Stock Price')\n",
        "plt.title('Google Stock Price Prediction')\n",
        "plt.xlabel('Time')\n",
        "plt.ylabel('Google Stock Price')\n",
        "plt.legend()\n",
        "plt.show()\n",
        "# epoch = 250 daha güzel sonuç veriyor."
      ],
      "metadata": {
        "colab": {
          "base_uri": "https://localhost:8080/",
          "height": 295
        },
        "id": "ZnlohIYVrNPT",
        "outputId": "81b3c788-a52d-4b71-e02f-480869d3bb0e"
      },
      "execution_count": 32,
      "outputs": [
        {
          "output_type": "display_data",
          "data": {
            "text/plain": [
              "<Figure size 432x288 with 1 Axes>"
            ],
            "image/png": "[encoded data removed]"
          },
          "metadata": {
            "needs_background": "light"
          }
        }
      ]
    },
    {
      "cell_type": "markdown",
      "source": [
        "<a id=\"4\"></a>\n",
        "## Long Short Term Memory (LSTMs)\n",
        "* LSTM is variant of RNN.\n",
        "* LSTM de RNN'den farklı olarak long term memory var. \n",
        "* LSTM architecture:\n",
        "    * x: scaling of information\n",
        "    * +: Adding information\n",
        "    * sigmoid layer. Sigmoid memory den bir şeyi hatırlamak için yada unutmak için kullanılır. 1 yada 0'dır.\n",
        "    * tanh: activation function tanh. Tanh vanishing gradient(yavaş öğrenme - çok küçük gradient) problemini çözer. Çünkü parametreleri update ederken türev alıyorduk. Tanh'ın türevi hemen sıfır'a ulaşmaz.\n",
        "    * h(t-1): output of LSTM unit\n",
        "    * c(t-1): memory from previous LSTM unit\n",
        "    * X(t): input\n",
        "    * c(t): new updated memory\n",
        "    * h(t): output\n",
        "    * From c(t-1) to c(t) is memory pipeline. or only memory.\n",
        "    * Oklar vektör.\n",
        "    * h(t-1) ile X(t) birleşmiyor parallel iki yol olarak düşünebilirsiniz.\n",
        "* ![Time](lstm.jpg)\n",
        "* 1) Forget gate: input olarak X(t) ve h(t-1) alır. Gelen bilginin unutulup unutulmayacağına karar verir.\n",
        "* 2) Input gate: Hangi bilginin memory de depolanıp depolanmayacağına karar verir.\n",
        "* 3) Output gate: Hangi bilginin output olup olmayacağına karar verir.\n",
        "* Örneğin: \n",
        "    * ... \"Boys are watching TV\"\n",
        "    * \"On the other hand girls are playing baseball.\"\n",
        "    * Forget \"boys\". new input is \"girls\" and output is \"girls\""
      ],
      "metadata": {
        "id": "PI60rM44FVmx"
      }
    },
    {
      "cell_type": "markdown",
      "source": [
        "<a id=\"99\"></a>\n",
        "## Implementing Long Short Term Memory with Keras\n",
        "* [Loading and Visualizing Data](#41)\n",
        "* [Preprocessing Data](#42)\n",
        "* [Create LSTM Model](#43)\n",
        "* [Predictions and Visualising LSTM Model](#44)"
      ],
      "metadata": {
        "id": "RIKxC8_IFYrb"
      }
    },
    {
      "cell_type": "markdown",
      "source": [
        "<a id=\"41\"></a>\n",
        "### Loading and Visualizing Data"
      ],
      "metadata": {
        "id": "tGi9k6wPIG4H"
      }
    },
    {
      "cell_type": "code",
      "source": [
        "import numpy\n",
        "import pandas as pd \n",
        "import matplotlib.pyplot as plt\n",
        "import math\n",
        "from keras.models import Sequential\n",
        "from keras.layers import Dense\n",
        "from keras.layers import LSTM\n",
        "from sklearn.preprocessing import MinMaxScaler\n",
        "from sklearn.metrics import mean_squared_error"
      ],
      "metadata": {
        "id": "7sJNcmUxIHfH"
      },
      "execution_count": 33,
      "outputs": []
    },
    {
      "cell_type": "code",
      "source": [
        "data = pd.read_csv('international-airline-passengers.csv',skipfooter=5)\n",
        "data.head()"
      ],
      "metadata": {
        "colab": {
          "base_uri": "https://localhost:8080/",
          "height": 206
        },
        "id": "JfhD5IhxIL0S",
        "outputId": "3d542269-6470-42a4-8240-36fd3ae71027"
      },
      "execution_count": 34,
      "outputs": [
        {
          "output_type": "execute_result",
          "data": {
            "text/plain": [
              "     Month  \\\n",
              "0  1949-01   \n",
              "1  1949-02   \n",
              "2  1949-03   \n",
              "3  1949-04   \n",
              "4  1949-05   \n",
              "\n",
              "   International airline passengers: monthly totals in thousands. Jan 49 ? Dec 60  \n",
              "0                                                112                               \n",
              "1                                                118                               \n",
              "2                                                132                               \n",
              "3                                                129                               \n",
              "4                                                121                               "
            ],
            "text/html": [
              "\n",
              "  <div id=\"df-1447beb6-2515-40fb-81f5-088157702981\">\n",
              "    <div class=\"colab-df-container\">\n",
              "      <div>\n",
              "<style scoped>\n",
              "    .dataframe tbody tr th:only-of-type {\n",
              "        vertical-align: middle;\n",
              "    }\n",
              "\n",
              "    .dataframe tbody tr th {\n",
              "        vertical-align: top;\n",
              "    }\n",
              "\n",
              "    .dataframe thead th {\n",
              "        text-align: right;\n",
              "    }\n",
              "</style>\n",
              "<table border=\"1\" class=\"dataframe\">\n",
              "  <thead>\n",
              "    <tr style=\"text-align: right;\">\n",
              "      <th></th>\n",
              "      <th>Month</th>\n",
              "      <th>International airline passengers: monthly totals in thousands. Jan 49 ? Dec 60</th>\n",
              "    </tr>\n",
              "  </thead>\n",
              "  <tbody>\n",
              "    <tr>\n",
              "      <th>0</th>\n",
              "      <td>1949-01</td>\n",
              "      <td>112</td>\n",
              "    </tr>\n",
              "    <tr>\n",
              "      <th>1</th>\n",
              "      <td>1949-02</td>\n",
              "      <td>118</td>\n",
              "    </tr>\n",
              "    <tr>\n",
              "      <th>2</th>\n",
              "      <td>1949-03</td>\n",
              "      <td>132</td>\n",
              "    </tr>\n",
              "    <tr>\n",
              "      <th>3</th>\n",
              "      <td>1949-04</td>\n",
              "      <td>129</td>\n",
              "    </tr>\n",
              "    <tr>\n",
              "      <th>4</th>\n",
              "      <td>1949-05</td>\n",
              "      <td>121</td>\n",
              "    </tr>\n",
              "  </tbody>\n",
              "</table>\n",
              "</div>\n",
              "      <button class=\"colab-df-convert\" onclick=\"convertToInteractive('df-1447beb6-2515-40fb-81f5-088157702981')\"\n",
              "              title=\"Convert this dataframe to an interactive table.\"\n",
              "              style=\"display:none;\">\n",
              "        \n",
              "  <svg xmlns=\"http://www.w3.org/2000/svg\" height=\"24px\"viewBox=\"0 0 24 24\"\n",
              "       width=\"24px\">\n",
              "    <path d=\"M0 0h24v24H0V0z\" fill=\"none\"/>\n",
              "    <path d=\"M18.56 5.44l.94 2.06.94-2.06 2.06-.94-2.06-.94-.94-2.06-.94 2.06-2.06.94zm-11 1L8.5 8.5l.94-2.06 2.06-.94-2.06-.94L8.5 2.5l-.94 2.06-2.06.94zm10 10l.94 2.06.94-2.06 2.06-.94-2.06-.94-.94-2.06-.94 2.06-2.06.94z\"/><path d=\"M17.41 7.96l-1.37-1.37c-.4-.4-.92-.59-1.43-.59-.52 0-1.04.2-1.43.59L10.3 9.45l-7.72 7.72c-.78.78-.78 2.05 0 2.83L4 21.41c.39.39.9.59 1.41.59.51 0 1.02-.2 1.41-.59l7.78-7.78 2.81-2.81c.8-.78.8-2.07 0-2.86zM5.41 20L4 18.59l7.72-7.72 1.47 1.35L5.41 20z\"/>\n",
              "  </svg>\n",
              "      </button>\n",
              "      \n",
              "  <style>\n",
              "    .colab-df-container {\n",
              "      display:flex;\n",
              "      flex-wrap:wrap;\n",
              "      gap: 12px;\n",
              "    }\n",
              "\n",
              "    .colab-df-convert {\n",
              "      background-color: #E8F0FE;\n",
              "      border: none;\n",
              "      border-radius: 50%;\n",
              "      cursor: pointer;\n",
              "      display: none;\n",
              "      fill: #1967D2;\n",
              "      height: 32px;\n",
              "      padding: 0 0 0 0;\n",
              "      width: 32px;\n",
              "    }\n",
              "\n",
              "    .colab-df-convert:hover {\n",
              "      background-color: #E2EBFA;\n",
              "      box-shadow: 0px 1px 2px rgba(60, 64, 67, 0.3), 0px 1px 3px 1px rgba(60, 64, 67, 0.15);\n",
              "      fill: #174EA6;\n",
              "    }\n",
              "\n",
              "    [theme=dark] .colab-df-convert {\n",
              "      background-color: #3B4455;\n",
              "      fill: #D2E3FC;\n",
              "    }\n",
              "\n",
              "    [theme=dark] .colab-df-convert:hover {\n",
              "      background-color: #434B5C;\n",
              "      box-shadow: 0px 1px 3px 1px rgba(0, 0, 0, 0.15);\n",
              "      filter: drop-shadow(0px 1px 2px rgba(0, 0, 0, 0.3));\n",
              "      fill: #FFFFFF;\n",
              "    }\n",
              "  </style>\n",
              "\n",
              "      <script>\n",
              "        const buttonEl =\n",
              "          document.querySelector('#df-1447beb6-2515-40fb-81f5-088157702981 button.colab-df-convert');\n",
              "        buttonEl.style.display =\n",
              "          google.colab.kernel.accessAllowed ? 'block' : 'none';\n",
              "\n",
              "        async function convertToInteractive(key) {\n",
              "          const element = document.querySelector('#df-1447beb6-2515-40fb-81f5-088157702981');\n",
              "          const dataTable =\n",
              "            await google.colab.kernel.invokeFunction('convertToInteractive',\n",
              "                                                     [key], {});\n",
              "          if (!dataTable) return;\n",
              "\n",
              "          const docLinkHtml = 'Like what you see? Visit the ' +\n",
              "            '<a target=\"_blank\" href=https://colab.research.google.com/notebooks/data_table.ipynb>data table notebook</a>'\n",
              "            + ' to learn more about interactive tables.';\n",
              "          element.innerHTML = '';\n",
              "          dataTable['output_type'] = 'display_data';\n",
              "          await google.colab.output.renderOutput(dataTable, element);\n",
              "          const docLink = document.createElement('div');\n",
              "          docLink.innerHTML = docLinkHtml;\n",
              "          element.appendChild(docLink);\n",
              "        }\n",
              "      </script>\n",
              "    </div>\n",
              "  </div>\n",
              "  "
            ]
          },
          "metadata": {},
          "execution_count": 34
        }
      ]
    },
    {
      "cell_type": "code",
      "source": [
        "dataset = data.iloc[:,1].values\n",
        "plt.plot(dataset)\n",
        "plt.xlabel(\"time\")\n",
        "plt.ylabel(\"Number of Passenger\")\n",
        "plt.title(\"international airline passenger\")\n",
        "plt.show()"
      ],
      "metadata": {
        "colab": {
          "base_uri": "https://localhost:8080/",
          "height": 295
        },
        "id": "UfVSCdv-IL4X",
        "outputId": "c6bafdc6-e1df-47f9-b23a-0131dce8fed2"
      },
      "execution_count": 35,
      "outputs": [
        {
          "output_type": "display_data",
          "data": {
            "text/plain": [
              "<Figure size 432x288 with 1 Axes>"
            ],
            "image/png": "[encoded data removed]"
          },
          "metadata": {
            "needs_background": "light"
          }
        }
      ]
    },
    {
      "cell_type": "markdown",
      "source": [
        "<a id=\"42\"></a>\n",
        "### Preprocessing Data\n",
        "* reshape\n",
        "* change type\n",
        "* scaling\n",
        "* train test split\n",
        "* Create dataset"
      ],
      "metadata": {
        "id": "Bx4_VQrqIR4k"
      }
    },
    {
      "cell_type": "code",
      "source": [
        "dataset = dataset.reshape(-1,1) # (142,) -> (142,1) oldu. Aslında ikiside aynı şeyi tanımlamaktadır. Bazı metodlarda hata verdiği için reshape işlemi yapıldı.\n",
        "dataset = dataset.astype(\"float32\") # tüm değerler float'a dönüştürüldü\n",
        "dataset.shape\n"
      ],
      "metadata": {
        "colab": {
          "base_uri": "https://localhost:8080/"
        },
        "id": "O1kHXjjwIT0r",
        "outputId": "c63e0f66-7215-4fa3-d785-79bf82ee8e3b"
      },
      "execution_count": 36,
      "outputs": [
        {
          "output_type": "execute_result",
          "data": {
            "text/plain": [
              "(142, 1)"
            ]
          },
          "metadata": {},
          "execution_count": 36
        }
      ]
    },
    {
      "cell_type": "code",
      "source": [
        "# scaling  - hızlandırma\n",
        "scaler = MinMaxScaler(feature_range=(0, 1))\n",
        "dataset = scaler.fit_transform(dataset)"
      ],
      "metadata": {
        "id": "19b1SIT9IT-4"
      },
      "execution_count": 37,
      "outputs": []
    },
    {
      "cell_type": "code",
      "source": [
        "train_size = int(len(dataset) * 0.50)\n",
        "test_size = len(dataset) - train_size\n",
        "train = dataset[0:train_size,:]\n",
        "test = dataset[train_size:len(dataset),:]\n",
        "print(\"train size: {}, test size: {} \".format(len(train), len(test)))"
      ],
      "metadata": {
        "colab": {
          "base_uri": "https://localhost:8080/"
        },
        "id": "MsP2X0YyI8HL",
        "outputId": "9b529422-44a6-4124-9d7a-37916303d81a"
      },
      "execution_count": 38,
      "outputs": [
        {
          "output_type": "stream",
          "name": "stdout",
          "text": [
            "train size: 71, test size: 71 \n"
          ]
        }
      ]
    },
    {
      "cell_type": "code",
      "source": [
        "time_stemp = 10\n",
        "dataX = []\n",
        "dataY = []\n",
        "for i in range(len(train)-time_stemp-1):\n",
        "    a = train[i:(i+time_stemp), 0]\n",
        "    dataX.append(a)\n",
        "    dataY.append(train[i + time_stemp, 0])\n",
        "trainX = numpy.array(dataX)\n",
        "trainY = numpy.array(dataY)  \n"
      ],
      "metadata": {
        "id": "U510EyUcI8KB"
      },
      "execution_count": 39,
      "outputs": []
    },
    {
      "cell_type": "code",
      "source": [
        "dataX = []\n",
        "dataY = []\n",
        "for i in range(len(test)-time_stemp-1):\n",
        "    a = test[i:(i+time_stemp), 0]\n",
        "    dataX.append(a)\n",
        "    dataY.append(test[i + time_stemp, 0])\n",
        "testX = numpy.array(dataX)\n",
        "testY = numpy.array(dataY)  "
      ],
      "metadata": {
        "id": "ub1ABydUI8PS"
      },
      "execution_count": 40,
      "outputs": []
    },
    {
      "cell_type": "code",
      "source": [
        "trainX = numpy.reshape(trainX, (trainX.shape[0], 1, trainX.shape[1]))\n",
        "testX = numpy.reshape(testX, (testX.shape[0], 1, testX.shape[1]))"
      ],
      "metadata": {
        "id": "AOf8YE4AJLV0"
      },
      "execution_count": 41,
      "outputs": []
    },
    {
      "cell_type": "markdown",
      "source": [
        "**Create LSTM Model**"
      ],
      "metadata": {
        "id": "zZG0IPkxJO3_"
      }
    },
    {
      "cell_type": "code",
      "source": [
        "# model\n",
        "model = Sequential()\n",
        "model.add(LSTM(10, input_shape=(1, time_stemp))) # 10 lstm neuron(block)\n",
        "model.add(Dense(1))\n",
        "model.compile(loss='mean_squared_error', optimizer='adam')\n",
        "model.fit(trainX, trainY, epochs=50, batch_size=1)"
      ],
      "metadata": {
        "colab": {
          "base_uri": "https://localhost:8080/"
        },
        "id": "3H7D28f6JLbK",
        "outputId": "7448feff-208d-42f7-b183-43da8356ca10"
      },
      "execution_count": 42,
      "outputs": [
        {
          "output_type": "stream",
          "name": "stdout",
          "text": [
            "Epoch 1/50\n",
            "60/60 [==============================] - 2s 2ms/step - loss: 0.0203\n",
            "Epoch 2/50\n",
            "60/60 [==============================] - 0s 2ms/step - loss: 0.0049\n",
            "Epoch 3/50\n",
            "60/60 [==============================] - 0s 2ms/step - loss: 0.0047\n",
            "Epoch 4/50\n",
            "60/60 [==============================] - 0s 2ms/step - loss: 0.0043\n",
            "Epoch 5/50\n",
            "60/60 [==============================] - 0s 2ms/step - loss: 0.0040\n",
            "Epoch 6/50\n",
            "60/60 [==============================] - 0s 2ms/step - loss: 0.0037\n",
            "Epoch 7/50\n",
            "60/60 [==============================] - 0s 2ms/step - loss: 0.0036\n",
            "Epoch 8/50\n",
            "60/60 [==============================] - 0s 2ms/step - loss: 0.0033\n",
            "Epoch 9/50\n",
            "60/60 [==============================] - 0s 2ms/step - loss: 0.0030\n",
            "Epoch 10/50\n",
            "60/60 [==============================] - 0s 2ms/step - loss: 0.0028\n",
            "Epoch 11/50\n",
            "60/60 [==============================] - 0s 2ms/step - loss: 0.0027\n",
            "Epoch 12/50\n",
            "60/60 [==============================] - 0s 2ms/step - loss: 0.0029\n",
            "Epoch 13/50\n",
            "60/60 [==============================] - 0s 2ms/step - loss: 0.0028\n",
            "Epoch 14/50\n",
            "60/60 [==============================] - 0s 2ms/step - loss: 0.0025\n",
            "Epoch 15/50\n",
            "60/60 [==============================] - 0s 2ms/step - loss: 0.0023\n",
            "Epoch 16/50\n",
            "60/60 [==============================] - 0s 2ms/step - loss: 0.0023\n",
            "Epoch 17/50\n",
            "60/60 [==============================] - 0s 2ms/step - loss: 0.0021\n",
            "Epoch 18/50\n",
            "60/60 [==============================] - 0s 2ms/step - loss: 0.0021\n",
            "Epoch 19/50\n",
            "60/60 [==============================] - 0s 2ms/step - loss: 0.0021\n",
            "Epoch 20/50\n",
            "60/60 [==============================] - 0s 2ms/step - loss: 0.0019\n",
            "Epoch 21/50\n",
            "60/60 [==============================] - 0s 2ms/step - loss: 0.0020\n",
            "Epoch 22/50\n",
            "60/60 [==============================] - 0s 2ms/step - loss: 0.0018\n",
            "Epoch 23/50\n",
            "60/60 [==============================] - 0s 2ms/step - loss: 0.0019\n",
            "Epoch 24/50\n",
            "60/60 [==============================] - 0s 2ms/step - loss: 0.0017\n",
            "Epoch 25/50\n",
            "60/60 [==============================] - 0s 2ms/step - loss: 0.0017\n",
            "Epoch 26/50\n",
            "60/60 [==============================] - 0s 2ms/step - loss: 0.0016\n",
            "Epoch 27/50\n",
            "60/60 [==============================] - 0s 2ms/step - loss: 0.0016\n",
            "Epoch 28/50\n",
            "60/60 [==============================] - 0s 2ms/step - loss: 0.0014\n",
            "Epoch 29/50\n",
            "60/60 [==============================] - 0s 2ms/step - loss: 0.0015\n",
            "Epoch 30/50\n",
            "60/60 [==============================] - 0s 2ms/step - loss: 0.0015\n",
            "Epoch 31/50\n",
            "60/60 [==============================] - 0s 2ms/step - loss: 0.0014\n",
            "Epoch 32/50\n",
            "60/60 [==============================] - 0s 2ms/step - loss: 0.0016\n",
            "Epoch 33/50\n",
            "60/60 [==============================] - 0s 2ms/step - loss: 0.0014\n",
            "Epoch 34/50\n",
            "60/60 [==============================] - 0s 2ms/step - loss: 0.0013\n",
            "Epoch 35/50\n",
            "60/60 [==============================] - 0s 2ms/step - loss: 0.0013\n",
            "Epoch 36/50\n",
            "60/60 [==============================] - 0s 2ms/step - loss: 0.0013\n",
            "Epoch 37/50\n",
            "60/60 [==============================] - 0s 2ms/step - loss: 0.0012\n",
            "Epoch 38/50\n",
            "60/60 [==============================] - 0s 2ms/step - loss: 0.0012\n",
            "Epoch 39/50\n",
            "60/60 [==============================] - 0s 2ms/step - loss: 0.0012\n",
            "Epoch 40/50\n",
            "60/60 [==============================] - 0s 2ms/step - loss: 0.0012\n",
            "Epoch 41/50\n",
            "60/60 [==============================] - 0s 2ms/step - loss: 0.0012\n",
            "Epoch 42/50\n",
            "60/60 [==============================] - 0s 2ms/step - loss: 0.0012\n",
            "Epoch 43/50\n",
            "60/60 [==============================] - 0s 2ms/step - loss: 0.0012\n",
            "Epoch 44/50\n",
            "60/60 [==============================] - 0s 2ms/step - loss: 0.0012\n",
            "Epoch 45/50\n",
            "60/60 [==============================] - 0s 2ms/step - loss: 0.0012\n",
            "Epoch 46/50\n",
            "60/60 [==============================] - 0s 2ms/step - loss: 0.0011\n",
            "Epoch 47/50\n",
            "60/60 [==============================] - 0s 2ms/step - loss: 0.0011\n",
            "Epoch 48/50\n",
            "60/60 [==============================] - 0s 2ms/step - loss: 0.0011\n",
            "Epoch 49/50\n",
            "60/60 [==============================] - 0s 2ms/step - loss: 0.0011\n",
            "Epoch 50/50\n",
            "60/60 [==============================] - 0s 2ms/step - loss: 0.0011\n"
          ]
        },
        {
          "output_type": "execute_result",
          "data": {
            "text/plain": [
              "<keras.callbacks.History at 0x7ffaae40f750>"
            ]
          },
          "metadata": {},
          "execution_count": 42
        }
      ]
    },
    {
      "cell_type": "markdown",
      "source": [
        "<a id=\"44\"></a>\n",
        "### Predictions and Visualising LSTM Model"
      ],
      "metadata": {
        "id": "LQzRtE68JiCM"
      }
    },
    {
      "cell_type": "code",
      "source": [
        "trainPredict = model.predict(trainX)\n",
        "testPredict = model.predict(testX)\n",
        "# invert predictions\n",
        "trainPredict = scaler.inverse_transform(trainPredict) # inverse_transform : veriler tekrar eski boyutlarına döndürüldü\n",
        "trainY = scaler.inverse_transform([trainY])\n",
        "testPredict = scaler.inverse_transform(testPredict)\n",
        "testY = scaler.inverse_transform([testY])\n",
        "# calculate root mean squared error\n",
        "trainScore = math.sqrt(mean_squared_error(trainY[0], trainPredict[:,0]))\n",
        "print('Train Score: %.2f RMSE' % (trainScore))\n",
        "testScore = math.sqrt(mean_squared_error(testY[0], testPredict[:,0]))\n",
        "print('Test Score: %.2f RMSE' % (testScore))"
      ],
      "metadata": {
        "colab": {
          "base_uri": "https://localhost:8080/"
        },
        "id": "q7CgXpuyJUm2",
        "outputId": "75d6647c-089d-4965-ff37-cf54e8228973"
      },
      "execution_count": 43,
      "outputs": [
        {
          "output_type": "stream",
          "name": "stdout",
          "text": [
            "Train Score: 16.44 RMSE\n",
            "Test Score: 37.67 RMSE\n"
          ]
        }
      ]
    },
    {
      "cell_type": "code",
      "source": [
        "# shifting train\n",
        "trainPredictPlot = numpy.empty_like(dataset)\n",
        "trainPredictPlot[:, :] = numpy.nan\n",
        "trainPredictPlot[time_stemp:len(trainPredict)+time_stemp, :] = trainPredict\n",
        "# shifting test predictions for plotting\n",
        "testPredictPlot = numpy.empty_like(dataset)\n",
        "testPredictPlot[:, :] = numpy.nan\n",
        "testPredictPlot[len(trainPredict)+(time_stemp*2)+1:len(dataset)-1, :] = testPredict\n",
        "# plot baseline and predictions\n",
        "plt.plot(scaler.inverse_transform(dataset))\n",
        "plt.plot(trainPredictPlot)\n",
        "plt.plot(testPredictPlot)\n",
        "plt.show()"
      ],
      "metadata": {
        "colab": {
          "base_uri": "https://localhost:8080/",
          "height": 265
        },
        "id": "1kL3pwkdJUrQ",
        "outputId": "3f992633-a156-413c-b09b-e2727bd40169"
      },
      "execution_count": 44,
      "outputs": [
        {
          "output_type": "display_data",
          "data": {
            "text/plain": [
              "<Figure size 432x288 with 1 Axes>"
            ],
            "image/png": "[encoded data removed]"
          },
          "metadata": {
            "needs_background": "light"
          }
        }
      ]
    },
    {
      "cell_type": "markdown",
      "source": [
        "blue : data\n",
        "\n",
        "orange : train edilen data\n",
        "\n",
        "green : future prediction"
      ],
      "metadata": {
        "id": "m71yOusVKgo-"
      }
    }
  ]
}