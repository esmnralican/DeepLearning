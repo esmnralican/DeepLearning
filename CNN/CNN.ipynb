{
  "cells": [
    {
      "cell_type": "code",
      "source": [
        "# This Python 3 environment comes with many helpful analytics libraries installed\n",
        "# It is defined by the kaggle/python docker image: https://github.com/kaggle/docker-python\n",
        "# For example, here's several helpful packages to load in \n",
        "\n",
        "import numpy as np # linear algebra\n",
        "import pandas as pd # data processing, CSV file I/O (e.g. pd.read_csv)\n",
        "import seaborn as sns\n",
        "import matplotlib.pyplot as plt\n",
        "# import warnings\n",
        "import warnings\n",
        "# filter warnings\n",
        "warnings.filterwarnings('ignore')\n",
        "# Input data files are available in the \"../input/\" directory.\n",
        "# For example, running this (by clicking run or pressing Shift+Enter) will list the files in the input directory\n",
        "\n",
        "# Any results you write to the current directory are saved as output."
      ],
      "metadata": {
        "id": "8xK2k2s7eT5n"
      },
      "execution_count": 25,
      "outputs": []
    },
    {
      "cell_type": "markdown",
      "source": [
        "**LOADING** **THE**  **DATASET** \n",
        ">In this part we load and visualize the data\n",
        "\n",
        "\n",
        "\n"
      ],
      "metadata": {
        "id": "QR21yD7Teeud"
      }
    },
    {
      "cell_type": "code",
      "source": [
        "# read train \n",
        "train = pd.read_csv(\"/content/train.csv\")\n",
        "print(train.shape)\n",
        "train.head() \n",
        "# 42000 : img_size (train için kaç adet fotoğraf var) | 785 : column size (28x28=784 : piksel sayısı , 1 : label adedi) "
      ],
      "metadata": {
        "id": "Xsqe2GevedbH",
        "outputId": "5b7ec68a-69bd-4e5c-a659-d430ad7c90f0",
        "colab": {
          "base_uri": "https://localhost:8080/",
          "height": 317
        }
      },
      "execution_count": 26,
      "outputs": [
        {
          "output_type": "stream",
          "name": "stdout",
          "text": [
            "(42000, 785)\n"
          ]
        },
        {
          "output_type": "execute_result",
          "data": {
            "text/plain": [
              "   label  pixel0  pixel1  pixel2  pixel3  pixel4  pixel5  pixel6  pixel7  \\\n",
              "0      1       0       0       0       0       0       0       0       0   \n",
              "1      0       0       0       0       0       0       0       0       0   \n",
              "2      1       0       0       0       0       0       0       0       0   \n",
              "3      4       0       0       0       0       0       0       0       0   \n",
              "4      0       0       0       0       0       0       0       0       0   \n",
              "\n",
              "   pixel8  ...  pixel774  pixel775  pixel776  pixel777  pixel778  pixel779  \\\n",
              "0       0  ...         0         0         0         0         0         0   \n",
              "1       0  ...         0         0         0         0         0         0   \n",
              "2       0  ...         0         0         0         0         0         0   \n",
              "3       0  ...         0         0         0         0         0         0   \n",
              "4       0  ...         0         0         0         0         0         0   \n",
              "\n",
              "   pixel780  pixel781  pixel782  pixel783  \n",
              "0         0         0         0         0  \n",
              "1         0         0         0         0  \n",
              "2         0         0         0         0  \n",
              "3         0         0         0         0  \n",
              "4         0         0         0         0  \n",
              "\n",
              "[5 rows x 785 columns]"
            ],
            "text/html": [
              "\n",
              "  <div id=\"df-d39b30b0-9aad-4d15-8fe6-4fc2791850cd\">\n",
              "    <div class=\"colab-df-container\">\n",
              "      <div>\n",
              "<style scoped>\n",
              "    .dataframe tbody tr th:only-of-type {\n",
              "        vertical-align: middle;\n",
              "    }\n",
              "\n",
              "    .dataframe tbody tr th {\n",
              "        vertical-align: top;\n",
              "    }\n",
              "\n",
              "    .dataframe thead th {\n",
              "        text-align: right;\n",
              "    }\n",
              "</style>\n",
              "<table border=\"1\" class=\"dataframe\">\n",
              "  <thead>\n",
              "    <tr style=\"text-align: right;\">\n",
              "      <th></th>\n",
              "      <th>label</th>\n",
              "      <th>pixel0</th>\n",
              "      <th>pixel1</th>\n",
              "      <th>pixel2</th>\n",
              "      <th>pixel3</th>\n",
              "      <th>pixel4</th>\n",
              "      <th>pixel5</th>\n",
              "      <th>pixel6</th>\n",
              "      <th>pixel7</th>\n",
              "      <th>pixel8</th>\n",
              "      <th>...</th>\n",
              "      <th>pixel774</th>\n",
              "      <th>pixel775</th>\n",
              "      <th>pixel776</th>\n",
              "      <th>pixel777</th>\n",
              "      <th>pixel778</th>\n",
              "      <th>pixel779</th>\n",
              "      <th>pixel780</th>\n",
              "      <th>pixel781</th>\n",
              "      <th>pixel782</th>\n",
              "      <th>pixel783</th>\n",
              "    </tr>\n",
              "  </thead>\n",
              "  <tbody>\n",
              "    <tr>\n",
              "      <th>0</th>\n",
              "      <td>1</td>\n",
              "      <td>0</td>\n",
              "      <td>0</td>\n",
              "      <td>0</td>\n",
              "      <td>0</td>\n",
              "      <td>0</td>\n",
              "      <td>0</td>\n",
              "      <td>0</td>\n",
              "      <td>0</td>\n",
              "      <td>0</td>\n",
              "      <td>...</td>\n",
              "      <td>0</td>\n",
              "      <td>0</td>\n",
              "      <td>0</td>\n",
              "      <td>0</td>\n",
              "      <td>0</td>\n",
              "      <td>0</td>\n",
              "      <td>0</td>\n",
              "      <td>0</td>\n",
              "      <td>0</td>\n",
              "      <td>0</td>\n",
              "    </tr>\n",
              "    <tr>\n",
              "      <th>1</th>\n",
              "      <td>0</td>\n",
              "      <td>0</td>\n",
              "      <td>0</td>\n",
              "      <td>0</td>\n",
              "      <td>0</td>\n",
              "      <td>0</td>\n",
              "      <td>0</td>\n",
              "      <td>0</td>\n",
              "      <td>0</td>\n",
              "      <td>0</td>\n",
              "      <td>...</td>\n",
              "      <td>0</td>\n",
              "      <td>0</td>\n",
              "      <td>0</td>\n",
              "      <td>0</td>\n",
              "      <td>0</td>\n",
              "      <td>0</td>\n",
              "      <td>0</td>\n",
              "      <td>0</td>\n",
              "      <td>0</td>\n",
              "      <td>0</td>\n",
              "    </tr>\n",
              "    <tr>\n",
              "      <th>2</th>\n",
              "      <td>1</td>\n",
              "      <td>0</td>\n",
              "      <td>0</td>\n",
              "      <td>0</td>\n",
              "      <td>0</td>\n",
              "      <td>0</td>\n",
              "      <td>0</td>\n",
              "      <td>0</td>\n",
              "      <td>0</td>\n",
              "      <td>0</td>\n",
              "      <td>...</td>\n",
              "      <td>0</td>\n",
              "      <td>0</td>\n",
              "      <td>0</td>\n",
              "      <td>0</td>\n",
              "      <td>0</td>\n",
              "      <td>0</td>\n",
              "      <td>0</td>\n",
              "      <td>0</td>\n",
              "      <td>0</td>\n",
              "      <td>0</td>\n",
              "    </tr>\n",
              "    <tr>\n",
              "      <th>3</th>\n",
              "      <td>4</td>\n",
              "      <td>0</td>\n",
              "      <td>0</td>\n",
              "      <td>0</td>\n",
              "      <td>0</td>\n",
              "      <td>0</td>\n",
              "      <td>0</td>\n",
              "      <td>0</td>\n",
              "      <td>0</td>\n",
              "      <td>0</td>\n",
              "      <td>...</td>\n",
              "      <td>0</td>\n",
              "      <td>0</td>\n",
              "      <td>0</td>\n",
              "      <td>0</td>\n",
              "      <td>0</td>\n",
              "      <td>0</td>\n",
              "      <td>0</td>\n",
              "      <td>0</td>\n",
              "      <td>0</td>\n",
              "      <td>0</td>\n",
              "    </tr>\n",
              "    <tr>\n",
              "      <th>4</th>\n",
              "      <td>0</td>\n",
              "      <td>0</td>\n",
              "      <td>0</td>\n",
              "      <td>0</td>\n",
              "      <td>0</td>\n",
              "      <td>0</td>\n",
              "      <td>0</td>\n",
              "      <td>0</td>\n",
              "      <td>0</td>\n",
              "      <td>0</td>\n",
              "      <td>...</td>\n",
              "      <td>0</td>\n",
              "      <td>0</td>\n",
              "      <td>0</td>\n",
              "      <td>0</td>\n",
              "      <td>0</td>\n",
              "      <td>0</td>\n",
              "      <td>0</td>\n",
              "      <td>0</td>\n",
              "      <td>0</td>\n",
              "      <td>0</td>\n",
              "    </tr>\n",
              "  </tbody>\n",
              "</table>\n",
              "<p>5 rows × 785 columns</p>\n",
              "</div>\n",
              "      <button class=\"colab-df-convert\" onclick=\"convertToInteractive('df-d39b30b0-9aad-4d15-8fe6-4fc2791850cd')\"\n",
              "              title=\"Convert this dataframe to an interactive table.\"\n",
              "              style=\"display:none;\">\n",
              "        \n",
              "  <svg xmlns=\"http://www.w3.org/2000/svg\" height=\"24px\"viewBox=\"0 0 24 24\"\n",
              "       width=\"24px\">\n",
              "    <path d=\"M0 0h24v24H0V0z\" fill=\"none\"/>\n",
              "    <path d=\"M18.56 5.44l.94 2.06.94-2.06 2.06-.94-2.06-.94-.94-2.06-.94 2.06-2.06.94zm-11 1L8.5 8.5l.94-2.06 2.06-.94-2.06-.94L8.5 2.5l-.94 2.06-2.06.94zm10 10l.94 2.06.94-2.06 2.06-.94-2.06-.94-.94-2.06-.94 2.06-2.06.94z\"/><path d=\"M17.41 7.96l-1.37-1.37c-.4-.4-.92-.59-1.43-.59-.52 0-1.04.2-1.43.59L10.3 9.45l-7.72 7.72c-.78.78-.78 2.05 0 2.83L4 21.41c.39.39.9.59 1.41.59.51 0 1.02-.2 1.41-.59l7.78-7.78 2.81-2.81c.8-.78.8-2.07 0-2.86zM5.41 20L4 18.59l7.72-7.72 1.47 1.35L5.41 20z\"/>\n",
              "  </svg>\n",
              "      </button>\n",
              "      \n",
              "  <style>\n",
              "    .colab-df-container {\n",
              "      display:flex;\n",
              "      flex-wrap:wrap;\n",
              "      gap: 12px;\n",
              "    }\n",
              "\n",
              "    .colab-df-convert {\n",
              "      background-color: #E8F0FE;\n",
              "      border: none;\n",
              "      border-radius: 50%;\n",
              "      cursor: pointer;\n",
              "      display: none;\n",
              "      fill: #1967D2;\n",
              "      height: 32px;\n",
              "      padding: 0 0 0 0;\n",
              "      width: 32px;\n",
              "    }\n",
              "\n",
              "    .colab-df-convert:hover {\n",
              "      background-color: #E2EBFA;\n",
              "      box-shadow: 0px 1px 2px rgba(60, 64, 67, 0.3), 0px 1px 3px 1px rgba(60, 64, 67, 0.15);\n",
              "      fill: #174EA6;\n",
              "    }\n",
              "\n",
              "    [theme=dark] .colab-df-convert {\n",
              "      background-color: #3B4455;\n",
              "      fill: #D2E3FC;\n",
              "    }\n",
              "\n",
              "    [theme=dark] .colab-df-convert:hover {\n",
              "      background-color: #434B5C;\n",
              "      box-shadow: 0px 1px 3px 1px rgba(0, 0, 0, 0.15);\n",
              "      filter: drop-shadow(0px 1px 2px rgba(0, 0, 0, 0.3));\n",
              "      fill: #FFFFFF;\n",
              "    }\n",
              "  </style>\n",
              "\n",
              "      <script>\n",
              "        const buttonEl =\n",
              "          document.querySelector('#df-d39b30b0-9aad-4d15-8fe6-4fc2791850cd button.colab-df-convert');\n",
              "        buttonEl.style.display =\n",
              "          google.colab.kernel.accessAllowed ? 'block' : 'none';\n",
              "\n",
              "        async function convertToInteractive(key) {\n",
              "          const element = document.querySelector('#df-d39b30b0-9aad-4d15-8fe6-4fc2791850cd');\n",
              "          const dataTable =\n",
              "            await google.colab.kernel.invokeFunction('convertToInteractive',\n",
              "                                                     [key], {});\n",
              "          if (!dataTable) return;\n",
              "\n",
              "          const docLinkHtml = 'Like what you see? Visit the ' +\n",
              "            '<a target=\"_blank\" href=https://colab.research.google.com/notebooks/data_table.ipynb>data table notebook</a>'\n",
              "            + ' to learn more about interactive tables.';\n",
              "          element.innerHTML = '';\n",
              "          dataTable['output_type'] = 'display_data';\n",
              "          await google.colab.output.renderOutput(dataTable, element);\n",
              "          const docLink = document.createElement('div');\n",
              "          docLink.innerHTML = docLinkHtml;\n",
              "          element.appendChild(docLink);\n",
              "        }\n",
              "      </script>\n",
              "    </div>\n",
              "  </div>\n",
              "  "
            ]
          },
          "metadata": {},
          "execution_count": 26
        }
      ]
    },
    {
      "cell_type": "markdown",
      "source": [
        "Bir resmin sayısal karşılığı pixel ifadesi ile temsil edilir. Makine fotoğrafta kullanılan renkleri bir sayısal değere (rgb) döüştürülmesinin ardından bir yorumlama yapabiliyor."
      ],
      "metadata": {
        "id": "-IoR3D_ogCke"
      }
    },
    {
      "cell_type": "code",
      "source": [
        "# read test \n",
        "test= pd.read_csv(\"test.csv\")\n",
        "print(test.shape)\n",
        "test.head()\n",
        "# 28000 : img_size (test için kaç adet fotoğraf var) | 784 (column sayısı) **label yok çünkü zaten test verisi"
      ],
      "metadata": {
        "id": "pSRsEmBnedhu",
        "outputId": "7d44b91b-95a2-4ba6-9cf1-ceeb4fb95c48",
        "colab": {
          "base_uri": "https://localhost:8080/",
          "height": 317
        }
      },
      "execution_count": 27,
      "outputs": [
        {
          "output_type": "stream",
          "name": "stdout",
          "text": [
            "(28000, 784)\n"
          ]
        },
        {
          "output_type": "execute_result",
          "data": {
            "text/plain": [
              "   pixel0  pixel1  pixel2  pixel3  pixel4  pixel5  pixel6  pixel7  pixel8  \\\n",
              "0       0       0       0       0       0       0       0       0       0   \n",
              "1       0       0       0       0       0       0       0       0       0   \n",
              "2       0       0       0       0       0       0       0       0       0   \n",
              "3       0       0       0       0       0       0       0       0       0   \n",
              "4       0       0       0       0       0       0       0       0       0   \n",
              "\n",
              "   pixel9  ...  pixel774  pixel775  pixel776  pixel777  pixel778  pixel779  \\\n",
              "0       0  ...         0         0         0         0         0         0   \n",
              "1       0  ...         0         0         0         0         0         0   \n",
              "2       0  ...         0         0         0         0         0         0   \n",
              "3       0  ...         0         0         0         0         0         0   \n",
              "4       0  ...         0         0         0         0         0         0   \n",
              "\n",
              "   pixel780  pixel781  pixel782  pixel783  \n",
              "0         0         0         0         0  \n",
              "1         0         0         0         0  \n",
              "2         0         0         0         0  \n",
              "3         0         0         0         0  \n",
              "4         0         0         0         0  \n",
              "\n",
              "[5 rows x 784 columns]"
            ],
            "text/html": [
              "\n",
              "  <div id=\"df-966cd7a0-f53e-4f57-9407-6142d9ab0bd1\">\n",
              "    <div class=\"colab-df-container\">\n",
              "      <div>\n",
              "<style scoped>\n",
              "    .dataframe tbody tr th:only-of-type {\n",
              "        vertical-align: middle;\n",
              "    }\n",
              "\n",
              "    .dataframe tbody tr th {\n",
              "        vertical-align: top;\n",
              "    }\n",
              "\n",
              "    .dataframe thead th {\n",
              "        text-align: right;\n",
              "    }\n",
              "</style>\n",
              "<table border=\"1\" class=\"dataframe\">\n",
              "  <thead>\n",
              "    <tr style=\"text-align: right;\">\n",
              "      <th></th>\n",
              "      <th>pixel0</th>\n",
              "      <th>pixel1</th>\n",
              "      <th>pixel2</th>\n",
              "      <th>pixel3</th>\n",
              "      <th>pixel4</th>\n",
              "      <th>pixel5</th>\n",
              "      <th>pixel6</th>\n",
              "      <th>pixel7</th>\n",
              "      <th>pixel8</th>\n",
              "      <th>pixel9</th>\n",
              "      <th>...</th>\n",
              "      <th>pixel774</th>\n",
              "      <th>pixel775</th>\n",
              "      <th>pixel776</th>\n",
              "      <th>pixel777</th>\n",
              "      <th>pixel778</th>\n",
              "      <th>pixel779</th>\n",
              "      <th>pixel780</th>\n",
              "      <th>pixel781</th>\n",
              "      <th>pixel782</th>\n",
              "      <th>pixel783</th>\n",
              "    </tr>\n",
              "  </thead>\n",
              "  <tbody>\n",
              "    <tr>\n",
              "      <th>0</th>\n",
              "      <td>0</td>\n",
              "      <td>0</td>\n",
              "      <td>0</td>\n",
              "      <td>0</td>\n",
              "      <td>0</td>\n",
              "      <td>0</td>\n",
              "      <td>0</td>\n",
              "      <td>0</td>\n",
              "      <td>0</td>\n",
              "      <td>0</td>\n",
              "      <td>...</td>\n",
              "      <td>0</td>\n",
              "      <td>0</td>\n",
              "      <td>0</td>\n",
              "      <td>0</td>\n",
              "      <td>0</td>\n",
              "      <td>0</td>\n",
              "      <td>0</td>\n",
              "      <td>0</td>\n",
              "      <td>0</td>\n",
              "      <td>0</td>\n",
              "    </tr>\n",
              "    <tr>\n",
              "      <th>1</th>\n",
              "      <td>0</td>\n",
              "      <td>0</td>\n",
              "      <td>0</td>\n",
              "      <td>0</td>\n",
              "      <td>0</td>\n",
              "      <td>0</td>\n",
              "      <td>0</td>\n",
              "      <td>0</td>\n",
              "      <td>0</td>\n",
              "      <td>0</td>\n",
              "      <td>...</td>\n",
              "      <td>0</td>\n",
              "      <td>0</td>\n",
              "      <td>0</td>\n",
              "      <td>0</td>\n",
              "      <td>0</td>\n",
              "      <td>0</td>\n",
              "      <td>0</td>\n",
              "      <td>0</td>\n",
              "      <td>0</td>\n",
              "      <td>0</td>\n",
              "    </tr>\n",
              "    <tr>\n",
              "      <th>2</th>\n",
              "      <td>0</td>\n",
              "      <td>0</td>\n",
              "      <td>0</td>\n",
              "      <td>0</td>\n",
              "      <td>0</td>\n",
              "      <td>0</td>\n",
              "      <td>0</td>\n",
              "      <td>0</td>\n",
              "      <td>0</td>\n",
              "      <td>0</td>\n",
              "      <td>...</td>\n",
              "      <td>0</td>\n",
              "      <td>0</td>\n",
              "      <td>0</td>\n",
              "      <td>0</td>\n",
              "      <td>0</td>\n",
              "      <td>0</td>\n",
              "      <td>0</td>\n",
              "      <td>0</td>\n",
              "      <td>0</td>\n",
              "      <td>0</td>\n",
              "    </tr>\n",
              "    <tr>\n",
              "      <th>3</th>\n",
              "      <td>0</td>\n",
              "      <td>0</td>\n",
              "      <td>0</td>\n",
              "      <td>0</td>\n",
              "      <td>0</td>\n",
              "      <td>0</td>\n",
              "      <td>0</td>\n",
              "      <td>0</td>\n",
              "      <td>0</td>\n",
              "      <td>0</td>\n",
              "      <td>...</td>\n",
              "      <td>0</td>\n",
              "      <td>0</td>\n",
              "      <td>0</td>\n",
              "      <td>0</td>\n",
              "      <td>0</td>\n",
              "      <td>0</td>\n",
              "      <td>0</td>\n",
              "      <td>0</td>\n",
              "      <td>0</td>\n",
              "      <td>0</td>\n",
              "    </tr>\n",
              "    <tr>\n",
              "      <th>4</th>\n",
              "      <td>0</td>\n",
              "      <td>0</td>\n",
              "      <td>0</td>\n",
              "      <td>0</td>\n",
              "      <td>0</td>\n",
              "      <td>0</td>\n",
              "      <td>0</td>\n",
              "      <td>0</td>\n",
              "      <td>0</td>\n",
              "      <td>0</td>\n",
              "      <td>...</td>\n",
              "      <td>0</td>\n",
              "      <td>0</td>\n",
              "      <td>0</td>\n",
              "      <td>0</td>\n",
              "      <td>0</td>\n",
              "      <td>0</td>\n",
              "      <td>0</td>\n",
              "      <td>0</td>\n",
              "      <td>0</td>\n",
              "      <td>0</td>\n",
              "    </tr>\n",
              "  </tbody>\n",
              "</table>\n",
              "<p>5 rows × 784 columns</p>\n",
              "</div>\n",
              "      <button class=\"colab-df-convert\" onclick=\"convertToInteractive('df-966cd7a0-f53e-4f57-9407-6142d9ab0bd1')\"\n",
              "              title=\"Convert this dataframe to an interactive table.\"\n",
              "              style=\"display:none;\">\n",
              "        \n",
              "  <svg xmlns=\"http://www.w3.org/2000/svg\" height=\"24px\"viewBox=\"0 0 24 24\"\n",
              "       width=\"24px\">\n",
              "    <path d=\"M0 0h24v24H0V0z\" fill=\"none\"/>\n",
              "    <path d=\"M18.56 5.44l.94 2.06.94-2.06 2.06-.94-2.06-.94-.94-2.06-.94 2.06-2.06.94zm-11 1L8.5 8.5l.94-2.06 2.06-.94-2.06-.94L8.5 2.5l-.94 2.06-2.06.94zm10 10l.94 2.06.94-2.06 2.06-.94-2.06-.94-.94-2.06-.94 2.06-2.06.94z\"/><path d=\"M17.41 7.96l-1.37-1.37c-.4-.4-.92-.59-1.43-.59-.52 0-1.04.2-1.43.59L10.3 9.45l-7.72 7.72c-.78.78-.78 2.05 0 2.83L4 21.41c.39.39.9.59 1.41.59.51 0 1.02-.2 1.41-.59l7.78-7.78 2.81-2.81c.8-.78.8-2.07 0-2.86zM5.41 20L4 18.59l7.72-7.72 1.47 1.35L5.41 20z\"/>\n",
              "  </svg>\n",
              "      </button>\n",
              "      \n",
              "  <style>\n",
              "    .colab-df-container {\n",
              "      display:flex;\n",
              "      flex-wrap:wrap;\n",
              "      gap: 12px;\n",
              "    }\n",
              "\n",
              "    .colab-df-convert {\n",
              "      background-color: #E8F0FE;\n",
              "      border: none;\n",
              "      border-radius: 50%;\n",
              "      cursor: pointer;\n",
              "      display: none;\n",
              "      fill: #1967D2;\n",
              "      height: 32px;\n",
              "      padding: 0 0 0 0;\n",
              "      width: 32px;\n",
              "    }\n",
              "\n",
              "    .colab-df-convert:hover {\n",
              "      background-color: #E2EBFA;\n",
              "      box-shadow: 0px 1px 2px rgba(60, 64, 67, 0.3), 0px 1px 3px 1px rgba(60, 64, 67, 0.15);\n",
              "      fill: #174EA6;\n",
              "    }\n",
              "\n",
              "    [theme=dark] .colab-df-convert {\n",
              "      background-color: #3B4455;\n",
              "      fill: #D2E3FC;\n",
              "    }\n",
              "\n",
              "    [theme=dark] .colab-df-convert:hover {\n",
              "      background-color: #434B5C;\n",
              "      box-shadow: 0px 1px 3px 1px rgba(0, 0, 0, 0.15);\n",
              "      filter: drop-shadow(0px 1px 2px rgba(0, 0, 0, 0.3));\n",
              "      fill: #FFFFFF;\n",
              "    }\n",
              "  </style>\n",
              "\n",
              "      <script>\n",
              "        const buttonEl =\n",
              "          document.querySelector('#df-966cd7a0-f53e-4f57-9407-6142d9ab0bd1 button.colab-df-convert');\n",
              "        buttonEl.style.display =\n",
              "          google.colab.kernel.accessAllowed ? 'block' : 'none';\n",
              "\n",
              "        async function convertToInteractive(key) {\n",
              "          const element = document.querySelector('#df-966cd7a0-f53e-4f57-9407-6142d9ab0bd1');\n",
              "          const dataTable =\n",
              "            await google.colab.kernel.invokeFunction('convertToInteractive',\n",
              "                                                     [key], {});\n",
              "          if (!dataTable) return;\n",
              "\n",
              "          const docLinkHtml = 'Like what you see? Visit the ' +\n",
              "            '<a target=\"_blank\" href=https://colab.research.google.com/notebooks/data_table.ipynb>data table notebook</a>'\n",
              "            + ' to learn more about interactive tables.';\n",
              "          element.innerHTML = '';\n",
              "          dataTable['output_type'] = 'display_data';\n",
              "          await google.colab.output.renderOutput(dataTable, element);\n",
              "          const docLink = document.createElement('div');\n",
              "          docLink.innerHTML = docLinkHtml;\n",
              "          element.appendChild(docLink);\n",
              "        }\n",
              "      </script>\n",
              "    </div>\n",
              "  </div>\n",
              "  "
            ]
          },
          "metadata": {},
          "execution_count": 27
        }
      ]
    },
    {
      "cell_type": "code",
      "source": [
        "# put labels into y_train variable\n",
        "Y_train = train[\"label\"]\n",
        "# Drop 'label' column\n",
        "X_train = train.drop(labels = [\"label\"],axis = 1) "
      ],
      "metadata": {
        "id": "vxUg57H1edkm"
      },
      "execution_count": 28,
      "outputs": []
    },
    {
      "cell_type": "code",
      "source": [
        "# visualize number of digits classes\n",
        "# hangi veriden kaç adet bulunmaktadır\n",
        "plt.figure(figsize=(15,7))\n",
        "sns.countplot(Y_train, palette=\"icefire\") # visualization\n",
        "plt.title(\"Number of digit classes\")\n",
        "Y_train.value_counts()"
      ],
      "metadata": {
        "id": "M7d44a0Eedof",
        "colab": {
          "base_uri": "https://localhost:8080/",
          "height": 649
        },
        "outputId": "5483525f-8ca9-492d-df16-93b6d1cb8174"
      },
      "execution_count": 29,
      "outputs": [
        {
          "output_type": "execute_result",
          "data": {
            "text/plain": [
              "1    4684\n",
              "7    4401\n",
              "3    4351\n",
              "9    4188\n",
              "2    4177\n",
              "6    4137\n",
              "0    4132\n",
              "4    4072\n",
              "8    4063\n",
              "5    3795\n",
              "Name: label, dtype: int64"
            ]
          },
          "metadata": {},
          "execution_count": 29
        },
        {
          "output_type": "display_data",
          "data": {
            "text/plain": [
              "<Figure size 1080x504 with 1 Axes>"
            ],
            "image/png": "[encoded data removed]"
          },
          "metadata": {
            "needs_background": "light"
          }
        }
      ]
    },
    {
      "cell_type": "code",
      "source": [
        "# plot some samples\n",
        "img = X_train.iloc[0].to_numpy()\n",
        "img = img.reshape((28,28))\n",
        "plt.imshow(img,cmap='gray')\n",
        "plt.title(train.iloc[0,0])\n",
        "plt.axis(\"off\")\n",
        "plt.show()"
      ],
      "metadata": {
        "id": "qKVCAg3Bedq4",
        "colab": {
          "base_uri": "https://localhost:8080/",
          "height": 264
        },
        "outputId": "250f0cb9-a7a7-4943-e46a-9804230e0e08"
      },
      "execution_count": 30,
      "outputs": [
        {
          "output_type": "display_data",
          "data": {
            "text/plain": [
              "<Figure size 432x288 with 1 Axes>"
            ],
            "image/png": "[encoded data removed]"
          },
          "metadata": {
            "needs_background": "light"
          }
        }
      ]
    },
    {
      "cell_type": "code",
      "source": [
        "# plot some samples\n",
        "img = X_train.iloc[3].to_numpy()\n",
        "img = img.reshape((28,28))\n",
        "plt.imshow(img,cmap='gray')\n",
        "plt.title(train.iloc[3,0])\n",
        "plt.axis(\"off\")\n",
        "plt.show()"
      ],
      "metadata": {
        "id": "-CkdTMGxedtg",
        "colab": {
          "base_uri": "https://localhost:8080/",
          "height": 264
        },
        "outputId": "3245eed6-0f63-4e99-f4c1-9aa4c1427fcb"
      },
      "execution_count": 31,
      "outputs": [
        {
          "output_type": "display_data",
          "data": {
            "text/plain": [
              "<Figure size 432x288 with 1 Axes>"
            ],
            "image/png": "[encoded data removed]"
          },
          "metadata": {
            "needs_background": "light"
          }
        }
      ]
    },
    {
      "cell_type": "code",
      "source": [
        "# plot some samples\n",
        "img = X_train.iloc[700].to_numpy()\n",
        "img = img.reshape((28,28))\n",
        "plt.imshow(img,cmap='gray')\n",
        "plt.title(train.iloc[3,0])\n",
        "plt.axis(\"off\")\n",
        "plt.show()"
      ],
      "metadata": {
        "id": "2Hrnes5OedwA",
        "colab": {
          "base_uri": "https://localhost:8080/",
          "height": 264
        },
        "outputId": "61b2ff7b-4d1a-4979-dd0a-ca6161e3a119"
      },
      "execution_count": 32,
      "outputs": [
        {
          "output_type": "display_data",
          "data": {
            "text/plain": [
              "<Figure size 432x288 with 1 Axes>"
            ],
            "image/png": "[encoded data removed]"
          },
          "metadata": {
            "needs_background": "light"
          }
        }
      ]
    },
    {
      "cell_type": "markdown",
      "source": [
        "**Normalization, Reshape and Label Encoding**\n",
        ">Normalization\n",
        "\n",
        ">>We perform a grayscale normalization to reduce the effect of illumination's differences.\n",
        "If we perform normalization, CNN works faster.\n",
        "\n",
        ">Reshape\n",
        "\n",
        ">>Train and test images (28 x 28). \n",
        ">>We reshape all data to 28x28x1 3D matrices. \n",
        "\n",
        ">>(Keras 2 boyutlu dizilerde çalışmaz)(Kullanılan 1 değeri gray sscale'i temsiletmektedir(eğer rengarenk(RGB) olarak kullanılsaydı 3 verilecekti.))\n",
        "\n",
        ">>Keras needs an extra dimension in the end which correspond to channels. Our images are gray scaled so it use only one channel.\n",
        "\n",
        ">Label Encoding\n",
        ">>Encode labels to one hot vectors\n",
        "\n",
        ">>2 => [0,0,1,0,0,0,0,0,0,0]\n",
        "\n",
        ">>4 => [0,0,0,0,1,0,0,0,0,0]\n",
        "\n",
        ">>RGB olarak verilen renk kodları 0,1 aralığına taşındı."
      ],
      "metadata": {
        "id": "myuF79Uegkny"
      }
    },
    {
      "cell_type": "code",
      "source": [
        "# Normalize the data\n",
        "X_train = X_train / 255.0\n",
        "test = test / 255.0\n",
        "print(\"x_train shape: \",X_train.shape)\n",
        "print(\"test shape: \",test.shape)"
      ],
      "metadata": {
        "id": "aRQ339-0gmKg",
        "colab": {
          "base_uri": "https://localhost:8080/"
        },
        "outputId": "4286016e-447a-4bce-ee82-86ef1f82166a"
      },
      "execution_count": 33,
      "outputs": [
        {
          "output_type": "stream",
          "name": "stdout",
          "text": [
            "x_train shape:  (42000, 784)\n",
            "test shape:  (28000, 784)\n"
          ]
        }
      ]
    },
    {
      "cell_type": "code",
      "source": [
        "# Reshape\n",
        "X_train = X_train.values.reshape(-1,28,28,1)\n",
        "test = test.values.reshape(-1,28,28,1)\n",
        "print(\"x_train shape: \",X_train.shape)\n",
        "print(\"test shape: \",test.shape)"
      ],
      "metadata": {
        "id": "jPveWiHCgmOG",
        "colab": {
          "base_uri": "https://localhost:8080/"
        },
        "outputId": "14c554cf-3207-43bf-f4a5-83e04610e3a2"
      },
      "execution_count": 34,
      "outputs": [
        {
          "output_type": "stream",
          "name": "stdout",
          "text": [
            "x_train shape:  (42000, 28, 28, 1)\n",
            "test shape:  (28000, 28, 28, 1)\n"
          ]
        }
      ]
    },
    {
      "cell_type": "code",
      "source": [
        "# Label Encoding \n",
        "from keras.utils.np_utils import to_categorical # convert to one-hot-encoding\n",
        "Y_train = to_categorical(Y_train, num_classes = 10)"
      ],
      "metadata": {
        "id": "M3h9QJePgmRn"
      },
      "execution_count": 35,
      "outputs": []
    },
    {
      "cell_type": "markdown",
      "source": [
        "**Train Test Split**\n",
        "\n",
        "We split the data into train and test sets.\n",
        "*   test size is 10%.\n",
        "*   train size is 90%.\n",
        "\n"
      ],
      "metadata": {
        "id": "5rIQdWEJhbb2"
      }
    },
    {
      "cell_type": "code",
      "source": [
        "# Split the train and the validation set for the fitting\n",
        "from sklearn.model_selection import train_test_split\n",
        "# train datası , validation ve train olarak ayrıldı.\n",
        "X_train, X_val, Y_train, Y_val = train_test_split(X_train, Y_train, test_size = 0.1, random_state=2)\n",
        "print(\"x_train shape\",X_train.shape)\n",
        "print(\"x_test shape\",X_val.shape)\n",
        "print(\"y_train shape\",Y_train.shape)\n",
        "print(\"y_test shape\",Y_val.shape)"
      ],
      "metadata": {
        "id": "Z259oI8fgmUe",
        "colab": {
          "base_uri": "https://localhost:8080/"
        },
        "outputId": "2c5162e2-c47d-46ad-987d-6d5458245a92"
      },
      "execution_count": 36,
      "outputs": [
        {
          "output_type": "stream",
          "name": "stdout",
          "text": [
            "x_train shape (37800, 28, 28, 1)\n",
            "x_test shape (4200, 28, 28, 1)\n",
            "y_train shape (37800, 10)\n",
            "y_test shape (4200, 10)\n"
          ]
        }
      ]
    },
    {
      "cell_type": "code",
      "source": [
        "# Some examples\n",
        "plt.imshow(X_train[2][:,:,0],cmap='gray')\n",
        "plt.show()"
      ],
      "metadata": {
        "id": "A5fKHIZghfXM",
        "colab": {
          "base_uri": "https://localhost:8080/",
          "height": 265
        },
        "outputId": "a3fe982a-b645-4378-bead-2ded0bb8d44c"
      },
      "execution_count": 37,
      "outputs": [
        {
          "output_type": "display_data",
          "data": {
            "text/plain": [
              "<Figure size 432x288 with 1 Axes>"
            ],
            "image/png": "[encoded data removed]"
          },
          "metadata": {
            "needs_background": "light"
          }
        }
      ]
    },
    {
      "cell_type": "markdown",
      "source": [
        "# CNN\n",
        "CNN used for image classification, object detection.\n",
        "\n",
        "![gec2.jpg](data:image/jpeg;base64,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)\n",
        "\n"
      ],
      "metadata": {
        "id": "Giojr1jlmhXk"
      }
    },
    {
      "cell_type": "markdown",
      "source": [
        "<a id=\"5\"></a>\n",
        "### What is Convolution Operation?\n",
        "* We have some image and feature detector(3*3)\n",
        "* Feature detector does not need to be 3 by 3 matrix. It can be 5 by 5 or 7 by 7.\n",
        "* Feature detector = kernel = filter\n",
        "* Feauture detector detects features like edges or convex shapes. Example, if out input is dog, feature detector can detect features like ear or tail of the dog.\n",
        "* feature map = conv(input image, feature detector). Element wise multiplication of matrices.\n",
        "* feature map = convolved feature\n",
        "* Stride = navigating in input image.\n",
        "* We reduce the size of image. This is important bc code runs faster. However, we lost information. \n",
        "* We create multiple feature maps bc we use multiple feature detectors(filters).\n",
        "* Lets look at gimp. Edge detect: [0,10,0],[10,-4,10],[0,10,0]\n",
        "* <a href=\"https://imgbb.com/\"><img src=\"https://image.ibb.co/m4FQC9/gec.jpg\" alt=\"gec\" border=\"0\"></a>\n",
        "* After having convolution layer we use ReLU to break up linearity. Increase nonlinearity. Because images are non linear.\n",
        "* <a href=\"https://ibb.co/mVZih9\"><img src=\"https://preview.ibb.co/gbcQvU/RELU.jpg\" alt=\"RELU\" border=\"0\"></a>"
      ],
      "metadata": {
        "id": "Nk3-jnfAoj8S"
      }
    },
    {
      "cell_type": "markdown",
      "source": [
        "<a id=\"6\"></a>\n",
        "### Same Padding\n",
        "* As we keep applying conv layers, the size of the volume will decrease faster than we would like. In the early layers of our network, we want to preserve as much information about the original input volume so that we can extract those low level features.\n",
        "* input size and output size are same.\n",
        "* <a href=\"https://ibb.co/jUPkUp\"><img src=\"https://preview.ibb.co/noH5Up/padding.jpg\" alt=\"padding\" border=\"0\"></a>"
      ],
      "metadata": {
        "id": "sKmE_Idmorgl"
      }
    },
    {
      "cell_type": "markdown",
      "source": [
        "<a id=\"7\"></a>\n",
        "### Max Pooling\n",
        "* It makes down-sampling or sub-sampling (Reduces the number of parameters)\n",
        "* It makes the detection of features invariant to scale or orientation changes.\n",
        "* It reduce the amount of parameters and computation in the network, and hence to also control overfitting. \n",
        "* <a href=\"https://ibb.co/ckTjN9\"><img src=\"https://preview.ibb.co/gsNYFU/maxpool.jpg\" alt=\"maxpool\" border=\"0\"></a>"
      ],
      "metadata": {
        "id": "eBiA60aoosNz"
      }
    },
    {
      "cell_type": "markdown",
      "source": [
        "<a id=\"8\"></a>\n",
        "### Flattening\n",
        "* <a href=\"https://imgbb.com/\"><img src=\"https://image.ibb.co/c7eVvU/flattenigng.jpg\" alt=\"flattenigng\" border=\"0\"></a>"
      ],
      "metadata": {
        "id": "uL5BU1DAovol"
      }
    },
    {
      "cell_type": "markdown",
      "source": [
        "<a id=\"9\"></a>\n",
        "### Full Connection\n",
        "* Neurons in a fully connected layer have connections to all activations in the previous layer\n",
        "* Artificial Neural Network\n",
        "* <a href=\"https://ibb.co/hsS14p\"><img src=\"https://preview.ibb.co/evzsAU/fullyc.jpg\" alt=\"fullyc\" border=\"0\"></a>"
      ],
      "metadata": {
        "id": "UbiWeP_qo0LD"
      }
    },
    {
      "cell_type": "markdown",
      "source": [
        "### **Implementing with KERAS**"
      ],
      "metadata": {
        "id": "O0eFE5n4tdhO"
      }
    },
    {
      "cell_type": "markdown",
      "source": [
        "<a id=\"11\"></a>\n",
        "### **Create Model**\n",
        "* conv => max pool => dropout => conv => max pool => dropout => fully connected (2 layer)\n",
        "* Dropout: Dropout is a technique where randomly selected neurons are ignored during training\n",
        "* <a href=\"https://ibb.co/jGcvVU\"><img src=\"https://preview.ibb.co/e7yPPp/dropout.jpg\" alt=\"dropout\" border=\"0\"></a>"
      ],
      "metadata": {
        "id": "fnLPsT_auR9_"
      }
    },
    {
      "cell_type": "code",
      "source": [
        "from sklearn.metrics import confusion_matrix\n",
        "import itertools\n",
        "\n",
        "from keras.utils.np_utils import to_categorical # convert to one-hot-encoding\n",
        "from keras.models import Sequential\n",
        "from keras.layers import Dense, Dropout, Flatten, Conv2D, MaxPool2D\n",
        "from keras.optimizers import rmsprop_v2,adam_v2\n",
        "from keras.preprocessing.image import ImageDataGenerator\n",
        "from keras.callbacks import ReduceLROnPlateau\n",
        "\n",
        "\n",
        "model = Sequential() # modeli oluşturmak için sequential metodu kullanılıyor.\n",
        "#\n",
        "model.add(Conv2D(filters = 8 , kernel_size = (5,5), padding = 'Same',\n",
        "                 activation ='relu' , input_shape = (28,28,1)))\n",
        "# 8 adet filtre , kernel size=filtre size(5x5) , same padding kullanılyor , activation fonksiyonu olarak relu fonks. , 28x28'lik matris-gray scale\n",
        "model.add(MaxPool2D(pool_size = (2,2)))\n",
        "model.add(Dropout(0.25)) # her node'un %25 oranında kaldırılma ihimali var.\n",
        "#\n",
        "model.add(Conv2D(filters = 16 , kernel_size = (3,3) , padding = 'Same',\n",
        "                 activation='relu'))\n",
        "model.add(MaxPool2D(pool_size = (2,2), strides=(2,2)))\n",
        "model.add(Dropout(0.25)) \n",
        "#fully connected\n",
        "model.add(Flatten())\n",
        "model.add(Dense(256, activation=\"relu\")) # activation function'ı relu  olan hidden layer eklendi\n",
        "model.add(Dropout(0.5))\n",
        "model.add(Dense(10, activation=\"softmax\")) # output layer , softmax : multi output classification(ör:1-9 arası sayılar) \n",
        "\n",
        "\n"
      ],
      "metadata": {
        "id": "lXohXOoukXax"
      },
      "execution_count": 38,
      "outputs": []
    },
    {
      "cell_type": "markdown",
      "source": [
        "**Define Optimizer**\n",
        "* Adam optimizer : Change the learning rate.\n",
        "\n"
      ],
      "metadata": {
        "id": "-zzrynIB0RIX"
      }
    },
    {
      "cell_type": "code",
      "source": [
        "# Define the optimizer\n",
        "optimizer = adam_v2.Adam(lr=0.001, beta_1=0.9, beta_2=0.999)\n"
      ],
      "metadata": {
        "id": "AVz20wGpkXeB"
      },
      "execution_count": 39,
      "outputs": []
    },
    {
      "cell_type": "markdown",
      "source": [
        "<a id=\"13\"></a>\n",
        "### Compile Model\n",
        "* categorical crossentropy\n",
        "* We make binary cross entropy at previous parts and in machine learning tutorial\n",
        "* At this time we use categorical crossentropy. That means that we have multi class.\n",
        "* <a href=\"https://ibb.co/jm1bpp\"><img src=\"https://preview.ibb.co/nN3ZaU/cce.jpg\" alt=\"cce\" border=\"0\"></a>\n"
      ],
      "metadata": {
        "id": "uSDMozXd5Gxk"
      }
    },
    {
      "cell_type": "code",
      "source": [
        "# Compile Model\n",
        "model.compile(optimizer = optimizer , loss=\"categorical_crossentropy\" , metrics=[\"accuracy\"])"
      ],
      "metadata": {
        "id": "vyz16SOCkXkJ"
      },
      "execution_count": 40,
      "outputs": []
    },
    {
      "cell_type": "markdown",
      "source": [
        "<a id=\"14\"></a>\n",
        "### Epochs and Batch Size\n",
        "* Say you have a dataset of 10 examples (or samples). You have a **batch size** of 2, and you've specified you want the algorithm to run for 3 **epochs**. Therefore, in each epoch, you have 5 **batches** (10/2 = 5). Each batch gets passed through the algorithm, therefore you have 5 iterations **per epoch**.\n",
        "* reference: https://stackoverflow.com/questions/4752626/epoch-vs-iteration-when-training-neural-networks"
      ],
      "metadata": {
        "id": "3FCwUzKC5lYB"
      }
    },
    {
      "cell_type": "code",
      "source": [
        "epochs = 25 # for better result increase the epochs\n",
        "batch_size = 250"
      ],
      "metadata": {
        "id": "n5172EV7kXm8"
      },
      "execution_count": 41,
      "outputs": []
    },
    {
      "cell_type": "markdown",
      "source": [
        "<a id=\"15\"></a>\n",
        "### Data Augmentation\n",
        "* To avoid overfitting problem, we need to expand artificially our handwritten digit dataset\n",
        "* Alter the training data with small transformations to reproduce the variations of digit.\n",
        "* For example, the number is not centered The scale is not the same (some who write with big/small numbers) The image is rotated.\n",
        "* <a href=\"https://ibb.co/k24CUp\"><img src=\"https://preview.ibb.co/nMxXUp/augment.jpg\" alt=\"augment\" border=\"0\"></a>\n",
        "    \n"
      ],
      "metadata": {
        "id": "K-tdYSUg6Wkn"
      }
    },
    {
      "cell_type": "code",
      "source": [
        "# data augmentation\n",
        "datagen = ImageDataGenerator(\n",
        "    featurewise_center = False, # set input mean to 0 over the dataset\n",
        "    samplewise_center=False, # set each sample mean to 0\n",
        "    featurewise_std_normalization = False, # divide inputs by std(standart deviation) of the dataset\n",
        "    samplewise_std_normalization=False, # divide each input by its std\n",
        "    zca_whitening=False, # dimension reduction\n",
        "    rotation_range=5, # randomly rotate images in the range 5 degrees\n",
        "    zoom_range=0.1, # randomly zoom image 5%\n",
        "    width_shift_range=0.1, # randomly shift images horizantally 5% \n",
        "    height_shift_range=0.1, # randomly shift images vertically 5%\n",
        "    horizontal_flip=False, # randomly flip images\n",
        "    vertical_flip=False) # randomly flip images\n",
        "\n",
        "datagen.fit(X_train)"
      ],
      "metadata": {
        "id": "n3WusP4-kXp2"
      },
      "execution_count": 42,
      "outputs": []
    },
    {
      "cell_type": "code",
      "source": [
        "# fit the model\n",
        "history = model.fit_generator(datagen.flow(X_train , Y_train , batch_size=batch_size),\n",
        "                              epochs=epochs , validation_data = (X_val , Y_val), steps_per_epoch=X_train.shape[0] // batch_size )"
      ],
      "metadata": {
        "id": "bI5FeSsEkXsy",
        "colab": {
          "base_uri": "https://localhost:8080/"
        },
        "outputId": "6b359677-932a-4f2b-86ac-914d75bd0a39"
      },
      "execution_count": 43,
      "outputs": [
        {
          "output_type": "stream",
          "name": "stdout",
          "text": [
            "Epoch 1/25\n",
            "151/151 [==============================] - 10s 63ms/step - loss: 1.1263 - accuracy: 0.6245 - val_loss: 0.2202 - val_accuracy: 0.9440\n",
            "Epoch 2/25\n",
            "151/151 [==============================] - 9s 62ms/step - loss: 0.4357 - accuracy: 0.8623 - val_loss: 0.1355 - val_accuracy: 0.9605\n",
            "Epoch 3/25\n",
            "151/151 [==============================] - 9s 59ms/step - loss: 0.3263 - accuracy: 0.8973 - val_loss: 0.1062 - val_accuracy: 0.9688\n",
            "Epoch 4/25\n",
            "151/151 [==============================] - 9s 60ms/step - loss: 0.2815 - accuracy: 0.9108 - val_loss: 0.0916 - val_accuracy: 0.9721\n",
            "Epoch 5/25\n",
            "151/151 [==============================] - 9s 62ms/step - loss: 0.2436 - accuracy: 0.9247 - val_loss: 0.0765 - val_accuracy: 0.9764\n",
            "Epoch 6/25\n",
            "151/151 [==============================] - 9s 62ms/step - loss: 0.2210 - accuracy: 0.9304 - val_loss: 0.0729 - val_accuracy: 0.9760\n",
            "Epoch 7/25\n",
            "151/151 [==============================] - 9s 59ms/step - loss: 0.2028 - accuracy: 0.9379 - val_loss: 0.0671 - val_accuracy: 0.9788\n",
            "Epoch 8/25\n",
            "151/151 [==============================] - 9s 60ms/step - loss: 0.1924 - accuracy: 0.9413 - val_loss: 0.0620 - val_accuracy: 0.9810\n",
            "Epoch 9/25\n",
            "151/151 [==============================] - 9s 60ms/step - loss: 0.1775 - accuracy: 0.9441 - val_loss: 0.0587 - val_accuracy: 0.9817\n",
            "Epoch 10/25\n",
            "151/151 [==============================] - 9s 62ms/step - loss: 0.1685 - accuracy: 0.9488 - val_loss: 0.0577 - val_accuracy: 0.9819\n",
            "Epoch 11/25\n",
            "151/151 [==============================] - 10s 67ms/step - loss: 0.1630 - accuracy: 0.9498 - val_loss: 0.0530 - val_accuracy: 0.9848\n",
            "Epoch 12/25\n",
            "151/151 [==============================] - 9s 60ms/step - loss: 0.1598 - accuracy: 0.9504 - val_loss: 0.0535 - val_accuracy: 0.9819\n",
            "Epoch 13/25\n",
            "151/151 [==============================] - 9s 62ms/step - loss: 0.1504 - accuracy: 0.9542 - val_loss: 0.0481 - val_accuracy: 0.9850\n",
            "Epoch 14/25\n",
            "151/151 [==============================] - 9s 60ms/step - loss: 0.1474 - accuracy: 0.9542 - val_loss: 0.0468 - val_accuracy: 0.9864\n",
            "Epoch 15/25\n",
            "151/151 [==============================] - 9s 62ms/step - loss: 0.1429 - accuracy: 0.9565 - val_loss: 0.0462 - val_accuracy: 0.9862\n",
            "Epoch 16/25\n",
            "151/151 [==============================] - 9s 62ms/step - loss: 0.1359 - accuracy: 0.9589 - val_loss: 0.0471 - val_accuracy: 0.9857\n",
            "Epoch 17/25\n",
            "151/151 [==============================] - 9s 61ms/step - loss: 0.1288 - accuracy: 0.9600 - val_loss: 0.0436 - val_accuracy: 0.9860\n",
            "Epoch 18/25\n",
            "151/151 [==============================] - 9s 61ms/step - loss: 0.1292 - accuracy: 0.9592 - val_loss: 0.0436 - val_accuracy: 0.9871\n",
            "Epoch 19/25\n",
            "151/151 [==============================] - 9s 60ms/step - loss: 0.1278 - accuracy: 0.9608 - val_loss: 0.0428 - val_accuracy: 0.9871\n",
            "Epoch 20/25\n",
            "151/151 [==============================] - 9s 62ms/step - loss: 0.1234 - accuracy: 0.9618 - val_loss: 0.0389 - val_accuracy: 0.9886\n",
            "Epoch 21/25\n",
            "151/151 [==============================] - 9s 60ms/step - loss: 0.1204 - accuracy: 0.9633 - val_loss: 0.0414 - val_accuracy: 0.9871\n",
            "Epoch 22/25\n",
            "151/151 [==============================] - 9s 62ms/step - loss: 0.1156 - accuracy: 0.9636 - val_loss: 0.0396 - val_accuracy: 0.9881\n",
            "Epoch 23/25\n",
            "151/151 [==============================] - 9s 61ms/step - loss: 0.1147 - accuracy: 0.9641 - val_loss: 0.0379 - val_accuracy: 0.9893\n",
            "Epoch 24/25\n",
            "151/151 [==============================] - 10s 66ms/step - loss: 0.1115 - accuracy: 0.9658 - val_loss: 0.0377 - val_accuracy: 0.9881\n",
            "Epoch 25/25\n",
            "151/151 [==============================] - 9s 61ms/step - loss: 0.1080 - accuracy: 0.9661 - val_loss: 0.0395 - val_accuracy: 0.9890\n"
          ]
        }
      ]
    },
    {
      "cell_type": "code",
      "source": [
        "X_train.shape[0]"
      ],
      "metadata": {
        "id": "tNDWp5uqB7-8",
        "colab": {
          "base_uri": "https://localhost:8080/"
        },
        "outputId": "6e3da802-b19a-4041-9a56-1482f157776c"
      },
      "execution_count": 44,
      "outputs": [
        {
          "output_type": "execute_result",
          "data": {
            "text/plain": [
              "37800"
            ]
          },
          "metadata": {},
          "execution_count": 44
        }
      ]
    },
    {
      "cell_type": "markdown",
      "source": [
        "<a id=\"17\"></a>\n",
        "### Evaluate the model\n",
        "* Test Loss visualization\n",
        "* Confusion matrix\n"
      ],
      "metadata": {
        "id": "I5R-98ro-Bgg"
      }
    },
    {
      "cell_type": "code",
      "source": [
        "# Plot the loss and accuracy curves for training and validation \n",
        "plt.plot(history.history['val_loss'], color='b', label=\"validation loss\")\n",
        "plt.title(\"Test Loss\")\n",
        "plt.xlabel(\"Number of Epochs\")\n",
        "plt.ylabel(\"Loss\")\n",
        "plt.legend()\n",
        "plt.show()"
      ],
      "metadata": {
        "id": "aYVLurbbkXvO",
        "colab": {
          "base_uri": "https://localhost:8080/",
          "height": 295
        },
        "outputId": "6ca226b6-ed55-4972-d54d-21d3e7947ecb"
      },
      "execution_count": 45,
      "outputs": [
        {
          "output_type": "display_data",
          "data": {
            "text/plain": [
              "<Figure size 432x288 with 1 Axes>"
            ],
            "image/png": "[encoded data removed]"
          },
          "metadata": {
            "needs_background": "light"
          }
        }
      ]
    },
    {
      "cell_type": "code",
      "source": [
        "# confusion matrix\n",
        "import seaborn as sns\n",
        "# predict the values from the validation dataset\n",
        "Y_pred = model.predict(X_val)\n",
        "# convert predictions classes to one hot vectors\n",
        "Y_pred_classes = np.argmax(Y_pred ,axis=1)\n",
        "# convert validations observations to one hot vectors\n",
        "Y_true = np.argmax(Y_val , axis=1)\n",
        "# compute confusion matrix\n",
        "confusion_mtx = confusion_matrix(Y_true , Y_pred_classes)\n",
        "#plot the confusion matrix\n",
        "f,ax = plt.subplots(figsize = (8 ,8))\n",
        "sns.heatmap(confusion_mtx , annot=True , linewidths=0.01 , cmap=\"Greens\" , linecolor=\"gray\" , fmt='.1f' , ax=ax)\n",
        "plt.xlabel(\"Predicted Label\")\n",
        "plt.ylabel(\"True Label\")\n",
        "plt.title(\"Confusion Matrix\")\n",
        "plt.show()"
      ],
      "metadata": {
        "id": "IieYPO6xkXyt",
        "colab": {
          "base_uri": "https://localhost:8080/",
          "height": 513
        },
        "outputId": "24ecc189-960e-4f0c-b72c-a7441f1a4f5c"
      },
      "execution_count": 48,
      "outputs": [
        {
          "output_type": "display_data",
          "data": {
            "text/plain": [
              "<Figure size 576x576 with 2 Axes>"
            ],
            "image/png": "[encoded data removed]"
          },
          "metadata": {
            "needs_background": "light"
          }
        }
      ]
    }
  ],
  "metadata": {
    "colab": {
      "collapsed_sections": [],
      "name": "CNN",
      "provenance": []
    },
    "kernelspec": {
      "display_name": "Python 3",
      "name": "python3"
    },
    "accelerator": "GPU",
    "gpuClass": "standard"
  },
  "nbformat": 4,
  "nbformat_minor": 0
}